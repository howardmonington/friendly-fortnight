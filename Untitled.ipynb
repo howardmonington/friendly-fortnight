{
 "cells": [
  {
   "cell_type": "code",
   "execution_count": 20,
   "metadata": {},
   "outputs": [
    {
     "name": "stdout",
     "output_type": "stream",
     "text": [
      "0.3205770882812499 0.0033750000000000017 120\n",
      "0.27249052503906246 0.022500000000000006 45\n"
     ]
    },
    {
     "data": {
      "text/plain": [
       "0.4057303773559571"
      ]
     },
     "execution_count": 20,
     "metadata": {},
     "output_type": "execute_result"
    }
   ],
   "source": [
    "from functools import reduce\n",
    "import operator as op\n",
    "def ncr(n, r):\n",
    "    r = min(r, n-r)\n",
    "    numer = reduce(op.mul, range(n, n-r, -1), 1)\n",
    "    denom = reduce(op.mul, range(1, r+1), 1)\n",
    "    return numer//denom\n",
    "p = 0.85\n",
    "def CDF(xvalue):\n",
    "    sum = 0\n",
    "    for i in range (7,9):\n",
    "        print(p**i, (1-p)**(10-i), ncr(10, i))\n",
    "        sum += ncr(10,i)*p**i*(1-p)**(10-i)\n",
    "    return sum\n",
    "\n",
    "CDF(10)"
   ]
  }
 ],
 "metadata": {
  "kernelspec": {
   "display_name": "Python 3",
   "language": "python",
   "name": "python3"
  },
  "language_info": {
   "codemirror_mode": {
    "name": "ipython",
    "version": 3
   },
   "file_extension": ".py",
   "mimetype": "text/x-python",
   "name": "python",
   "nbconvert_exporter": "python",
   "pygments_lexer": "ipython3",
   "version": "3.6.5"
  }
 },
 "nbformat": 4,
 "nbformat_minor": 2
}
