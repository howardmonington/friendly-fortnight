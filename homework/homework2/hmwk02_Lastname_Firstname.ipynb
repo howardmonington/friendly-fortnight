{
 "cells": [
  {
   "cell_type": "markdown",
   "metadata": {},
   "source": [
    "<a/ id='top'></a>\n",
    "# Homework 2: Introduction to Probability and Simulation \n",
    "***\n",
    "\n",
    "**Name**: \n",
    "\n",
    "***\n",
    "\n",
    "This assignment is due on Moodle by **5 PM on Friday September 28**. Your solutions to theoretical questions should be done in Markdown/MathJax directly below the associated question.  Your solutions to computational questions should include any specified Python code and results as well as written commentary on your conclusions.  Remember that you are encouraged to discuss the problems with your instructors and classmates, but **you must write all code and solutions on your own**. \n",
    "\n",
    "**NOTES**: \n",
    "\n",
    "- It is **bad form** to make your reader interpret numerical output from your code.  If a question asks you to compute some value from the data you should show your code output **AND** write a summary of the results in Markdown directly below your code.\n",
    "- Because you can technically evaluate notebook cells in a non-linear order, it's a good idea to do Cell $\\rightarrow$ Run All as a check before submitting your solutions.  That way if we need to run your code you will know that it will work as expected.\n",
    "- Leave all of your code cells executed and the output displayed before submitting your final notebook. That way, we do not need to re-run all of the simulations, which can be time-consuming.\n",
    "- Submit only this Jupyter notebook to Moodle.  Do not compress it using tar, rar, zip, etc. \n",
    "\n",
    "---\n",
    "**Shortcuts:**  [Problem 1](#p1) | [Problem 2](#p2) | [Problem 3](#p3) | [Problem 4](#p4) | [Problem 5](#p5) | [Challenge!](#ch)\n",
    "\n",
    "---"
   ]
  },
  {
   "cell_type": "code",
   "execution_count": 1,
   "metadata": {
    "scrolled": true
   },
   "outputs": [],
   "source": [
    "import pandas as pd\n",
    "import numpy as np\n",
    "import matplotlib.pylab as plt\n",
    "%matplotlib inline"
   ]
  },
  {
   "cell_type": "markdown",
   "metadata": {},
   "source": [
    "***\n",
    "<a/ id='p1'></a>\n",
    "[Back to top](#top)\n",
    "\n",
    "### [20 points] Problem 1\n",
    "\n",
    "To play a game, you have a bag containing 28 fair [four-sided dice](https://en.wikipedia.org/wiki/Four-sided_die), with faces `{1,2,3,4}`.  This bag also contains 10 fair six-sided dice (faces `{1,2,3,4,5,6}`) and 2 fair twenty-sided dice (faces `{1,2,3,4,...,19,20}`).  Call these 3 classes of die \"Four\", \"Six\" and \"Twenty\" (or F, S, and T, for short).  You grab one die at random from the box.  \n",
    "\n",
    "Work the following problems by hand unless otherwise stated (but don't be afraid to simulate to check your result!). "
   ]
  },
  {
   "cell_type": "markdown",
   "metadata": {},
   "source": [
    "**Part A**: You roll your die one time.  What is the probability of the event $R_5$, that you roll a 5?  Include at least 4 decimal places in your answer."
   ]
  },
  {
   "cell_type": "markdown",
   "metadata": {},
   "source": [
    "***\n",
    "__Part A Solution__:\n",
    "\n",
    "To find the probability that you roll a five, must use the law of total probability.\n",
    "$$P(R_5) = P(R_5\\mid S)*P(S) + P(R_5 \\mid F)*P(F) + P(R_5 \\mid T)*P(T)$$\n",
    "In plain English, this means taking the probability of rolling a 5 with each die, times the prob of picking that type of die, and adding these all together.\n",
    "$$\\text{n = 40 (total amount of dice in the bag)}\\\\\n",
    "P(S) = \\frac{10}{n} = \\frac{1}{4}\\\\\n",
    "P(T) = \\frac{2}{n} = \\frac{1}{20}\\\\\n",
    "P(F) = \\frac{28}{n} = \\frac{7}{10}$$\n",
    "\n",
    "To find the probability of picking each class of dice, take the number of dice possible to pick, and divide by the total number of dice in the bag.  This is assuming that the die picking from the bag is completely random.\n",
    "\n",
    "$$ \n",
    "P(R_5 \\mid S) = \\frac{1}{6}\\\\\n",
    "P(R_5 \\mid T) = \\frac{1}{20}\\\\\n",
    "P(R_5 \\mid F) = 0\n",
    "$$\n",
    "\n",
    "The probability f rolling a 5, on the condition that you pick that die is just 1 over the number of sides on that die.  This is the chance of rolling a 5 (one specific face of the die) out of the total number of faces on that die.\n",
    "\n",
    "Putting it all together in the LTP:\n",
    "$$ P(R_5) = \\frac{1}{4} * \\frac{1}{6} + \\frac{1}{20} * \\frac{1}{20} + \\frac{7}{10} * 0 = \\frac{1}{24} + \\frac{1}{400} = \\frac{53}{1200} \\approx 0.04417$$\n",
    "***"
   ]
  },
  {
   "cell_type": "code",
   "execution_count": 45,
   "metadata": {},
   "outputs": [
    {
     "data": {
      "text/plain": [
       "0.044206"
      ]
     },
     "execution_count": 45,
     "metadata": {},
     "output_type": "execute_result"
    }
   ],
   "source": [
    "#check on the math of the problem above\n",
    "ps = 1/4\n",
    "pt = 1/20\n",
    "pf = 7/10\n",
    "p5s = 1/6\n",
    "p5f = 0\n",
    "p5t = 1/20\n",
    "p5s*ps + p5f *pf + p5t *pt\n",
    "#simulationcheck\n",
    "import random\n",
    "bagofdice = [4,4,4,4,4,4,4,4,4,4,4,4,4,4,4,4,4,4,4,4,4,4,4,4,4,4,4,4,6,6,6,6,6,6,6,6,6,6,20,20]\n",
    "random.choice(bagofdice)\n",
    "def chancefive(n):\n",
    "    gotfive = 0\n",
    "    for i in range(n):\n",
    "        if(random.randint(1, random.choice(bagofdice)) == 5):\n",
    "            gotfive+=1\n",
    "    return gotfive/n\n",
    "\n",
    "chancefive(1000000)"
   ]
  },
  {
   "cell_type": "markdown",
   "metadata": {},
   "source": [
    "**Part B**: Suppose you roll a 5.  What is the probability that the die you chose from the box is a Six-sided die? "
   ]
  },
  {
   "cell_type": "markdown",
   "metadata": {},
   "source": [
    "***\n",
    "__Part B Solution__:\n",
    "We want to find $$P(S \\mid R_5) = \\frac{P(S \\cap R_5)}{P(R_5)}$$\n",
    "From __Part A__: \n",
    "$$P(R_5) = \\frac{53}{1200}$$\n",
    "Also know that \n",
    "$$\n",
    "    P(S \\cap R_5) = P(R_5 \\cap S) = P(R_5 \\mid S)*P(S)\\\\\n",
    "    P(R_5 \\mid S) = \\frac{1}{6}\\\\\n",
    "    P(S) = \\frac{1}{4}\\\\\n",
    "    \\therefore P(S \\cap R_5) = \\frac{1}{24}\n",
    "$$\n",
    "So finally:\n",
    "\n",
    "$$\n",
    "    P(S \\mid R_5) = \\frac{\\frac{1}{24}}{\\frac{53}{1200}} = \\frac{50}{53} \\approx 0.9434\\\\\n",
    "$$\n",
    "***"
   ]
  },
  {
   "cell_type": "code",
   "execution_count": 47,
   "metadata": {},
   "outputs": [
    {
     "name": "stdout",
     "output_type": "stream",
     "text": [
      "0.9443297097337903\n"
     ]
    }
   ],
   "source": [
    "def sixgivenfive(n):\n",
    "    isasixgivenfive = 0\n",
    "    isfive = 0\n",
    "    for i in range(n):\n",
    "        dicepicked = random.choice(bagofdice)\n",
    "        numrolled = random.randint(1, dicepicked)\n",
    "        if(numrolled == 5):\n",
    "                isfive+=1\n",
    "        if(numrolled == 5 and dicepicked == 6):\n",
    "            isasixgivenfive += 1\n",
    "    return isasixgivenfive/isfive\n",
    "\n",
    "print(sixgivenfive(1000000))"
   ]
  },
  {
   "cell_type": "markdown",
   "metadata": {},
   "source": [
    "**Part C:**  Are the events $R_5$ and $S$ independent?  Justify your answer **using math**."
   ]
  },
  {
   "cell_type": "markdown",
   "metadata": {},
   "source": [
    "***\n",
    "__Part C Solution__:\n",
    "To verify independence of these events we check against one of the formulas listed below:\n",
    "$$\n",
    "    P(R_5 \\mid S) = P(R_5)\\\\\n",
    "    or\\\\\n",
    "    P(S \\mid R_5) = P(S)\\\\\n",
    "    or\\\\\n",
    "    P(R_5 \\cap S) = P(R_5)*P(S)\n",
    "$$\n",
    "Using the second formula:\n",
    "$$\n",
    "    P(S \\mid R_5) = P(S)\\\\\n",
    "    P(S \\mid R_5) = \\frac{50}{53} \\implies \\text{(from part B)}\\\\\n",
    "    P(S) = \\frac{1}{4} \\implies \\text{(from part A)}\\\\\n",
    "    \\frac{50}{53} \\neq \\frac{1}{4}\n",
    "$$\n",
    "This shows that the events are not independent.\n",
    "***"
   ]
  },
  {
   "cell_type": "markdown",
   "metadata": {},
   "source": [
    "**Part D:**  Suppose you roll your die $n$ times and record each outcome.  Obviously, if you roll 5 or 6 you know you did *not* pick a Four-sided die, and if you roll a 7 or higher, you must have picked a Twenty-sided die.\n",
    "\n",
    "But, if you roll $n$ times in a row and get only 1, 2, 3 or 4, you would have a stronger belief that you in fact grabbed one of the Four-sided dice.  Let $E_n$ be the event that you roll $n$ rolls of 1, 2, 3 or 4 in a row.  For example, one outcome in $E_3$ is the sequence 2, 3, 1.\n",
    "\n",
    "Given that you roll a single value of 1, 2, 3 or 4, what is the probability that you have grabbed a Four-sided die?  That is, calculate **by hand** $P(F \\mid E_1)$."
   ]
  },
  {
   "cell_type": "markdown",
   "metadata": {},
   "source": [
    "***\n",
    "__Part D Solution__:\n",
    "\n",
    "Eventually we are going to be plugging in to this equation: \n",
    "$$\n",
    "    P(F \\mid E_1) = \\frac{P(F \\cap E_1)}{P(E_1)} \\tag{1.1}\n",
    "$$\n",
    "***\n",
    "$$\n",
    "    P(E_1) = P(R_1) + P(R_2) + P(R_3) + P(R_4)\n",
    "$$\n",
    "***\n",
    "Using the LPT as shown in the first example, calculate the prob of rolling each number {1, 2, 3, 4}\n",
    "***\n",
    "Start by using $R_1$ as an example\n",
    "$$\n",
    "\\text{n = 40 (total amount of dice in the bag)}\\\\\n",
    "P(S) = \\frac{10}{n} = \\frac{1}{4}\\\\\n",
    "P(T) = \\frac{2}{n} = \\frac{1}{20}\\\\\n",
    "P(F) = \\frac{28}{n} = \\frac{7}{10}\n",
    "$$\n",
    "***\n",
    "$$ \n",
    "P(R_1 \\mid S) = \\frac{1}{6}\\\\\n",
    "P(R_1 \\mid T) = \\frac{1}{20}\\\\\n",
    "P(R_1 \\mid F) = \\frac{1}{4}\n",
    "$$\n",
    "Then use the LPT:\n",
    "$$\n",
    "    P(R_1) = \\left(\\frac{1}{4} * \\frac{1}{6}\\right) + \\left(\\frac{1}{20} * \\frac{1}{20}\\right) + \\left(\\frac{7}{10} * \\frac{1}{4}\\right) = \\frac{1}{24} + \\frac{1}{400} + \\frac{7}{40}= \\frac{263}{1200} \\approx 0.2192\n",
    "$$\n",
    "\n",
    "We know also that $P(R_1)=P(R_2)=P(R_3)=P(R_4)$ because all of the conditional probabilities are the same for each type of die.  That is, each die contains these numbers, with an equal amount of chance to roll each one.\n",
    "\n",
    "From this information we can assume that \n",
    "$$\n",
    "    P(E_1) = P(R_1) * 4 \\\\\n",
    "    P(E_1) = \\frac{263}{300} \\approx 0.8767  \\tag{1.2}\n",
    "$$\n",
    "***\n",
    "Now we work on finding\n",
    "$$\n",
    "    P(F \\cap E_1)\n",
    "$$\n",
    "so that we can plug into the first equation and get the final answer.\n",
    "Like in the previous problem (Part C) we swap the two events in the intersection and use this equation:\n",
    "$$\n",
    "    P(E_1 \\cap F) = P(E_1 \\mid F)*P(F) \\tag{1.3}\n",
    "$$\n",
    "We can easily find $P(E_1 \\mid F)$ because given that the die is a four-sided, the event that it is 1, 2, 3, or 4 is 100%. This is because the event equals exactly the sample space of possible rolls for the four sided die.\n",
    "We also know that $P(F) = \\frac{7}{10}$\n",
    "***\n",
    "So finally, we know that \n",
    "$$\n",
    "    P(F \\cap E_1) = \\frac{7}{10}\n",
    "$$\n",
    "and \n",
    "$$\n",
    "    P(E_1) = \\frac{263}{300} \\approx 0.8767\n",
    "$$\n",
    "\n",
    "When plugging this all into the eq 1.1, we find that \n",
    "$$\n",
    "    P(F \\mid E_1) = \\frac{210}{263} \\approx 0.7985\n",
    "$$\n",
    "***"
   ]
  },
  {
   "cell_type": "code",
   "execution_count": 50,
   "metadata": {},
   "outputs": [
    {
     "name": "stdout",
     "output_type": "stream",
     "text": [
      "0.7985149650308155\n"
     ]
    }
   ],
   "source": [
    "def fgivene1(n):\n",
    "    e1happened = 0\n",
    "    fgivene1happened = 0\n",
    "    for i in range(n):\n",
    "        dicepicked = random.choice(bagofdice)\n",
    "        numrolled = random.randint(1, dicepicked)\n",
    "        if(numrolled <= 4 and numrolled >= 1):\n",
    "            e1happened += 1\n",
    "            if(dicepicked == 4):\n",
    "                fgivene1happened += 1\n",
    "    return fgivene1happened/e1happened\n",
    "\n",
    "print(fgivene1(1000000))"
   ]
  },
  {
   "cell_type": "markdown",
   "metadata": {},
   "source": [
    "**Part E**:  \n",
    "\n",
    "First, work out **by hand** a formula for the probability in general that you are rolling a Four-sided die, given that you have rolled $n$ values in a row that are 1, 2, 3 or 4 (that is, $E_n$).  So you want a formula for $P(F \\mid E_n)$ in terms of $n$.\n",
    "\n",
    "Then, define a function `prob_four` to calculate $P(F \\mid E_n)$.  This function should only take one positive integer argument, $n$.\n",
    "\n",
    "Verify that your function is performing as expected by checking your answer to **Part D**."
   ]
  },
  {
   "cell_type": "markdown",
   "metadata": {},
   "source": [
    "***\n",
    "__Part E by hand Solution__:\n",
    "\n",
    "We use the value in 1.2 from Part D\n",
    "$$\n",
    "    P(E_1) = \\left(\\frac{263}{300}\\right)\n",
    "$$\n",
    "***\n",
    "We will define this event:\n",
    "$$\n",
    "     G_n \\text{is the event that {1,2,3,4} is rolled on the }n^{th}\\text{roll}\\\\\n",
    "$$\n",
    "***\n",
    "The event of rolling more than one $E_1$ event in a row is independent.  We can determine this by imagining rolling a die. Each time we roll, it is completely random.  The outcome of the rolling is not going to be based on the previous roll.  Because these events are independent we can safely say that \n",
    "$$\n",
    "    P(E_1) = P(G_1) = P(G_2) = \\frac{263}{300}\\\\\n",
    "    P(E_2) = P(G_2 \\mid E_1)\\\\\n",
    "    P(E_3) = P(G_3 \\mid E_2)\\\\\n",
    "    etc...\\\\\n",
    "    \\therefore P(E_n) = P(G_n \\mid E_{n-1})\\\\\n",
    "    P(G_2 \\mid E_1) = \\frac{P(G_2 \\cap E_1)}{P(E_1)}\\\\\n",
    "    P(F \\mid E_1) = \\frac{P(F \\cap E_1)}{P(E_1)} = \\frac{210}{263}\\\\\n",
    "    P(S \\mid E_1) = \\frac{P(S \\cap E_1)}{P(E_1)} = \\frac{50}{263}\\\\\n",
    "    P(T \\mid E_1) = \\frac{P(T \\cap E_1)}{P(E_1)} = \\frac{3}{263}\\\\\n",
    "    P(F \\mid (F \\mid E_1)) = \\frac{P(F \\cap (F \\cap E_1))}{P(F \\mid E_1)} = \\\\\n",
    "    P(S \\mid E_1) = \\frac{P(S \\cap E_1)}{P(E_1)} = \\frac{50}{263}\\\\\n",
    "    P(T \\mid E_1) = \\frac{P(T \\cap E_1)}{P(E_1)} = \\frac{3}{263}\\\\\n",
    "    \\therefore P(E_2) = P(G_1 \\cap G_2) = P(G_1) * P(G_2) = \\left(\\frac{263}{300}\\right)^2\n",
    "$$\n",
    "We can say all of this above because we know that the events are independent. This lets us generalize below for $E_n$\n",
    "***\n",
    "$$\n",
    "    P(E_n) = P(G_1) *  P(G_2) * \\dots * P(G_n)\\\\\n",
    "    P(E_n) = \\left(\\frac{263}{300}\\right)^n\n",
    "$$\n",
    "***\n",
    "Using the same operations as finding the answer of Part D, we can end up with $P(F \\mid E_n)$ in terms of n.\n",
    "$$\n",
    "    P(F \\mid E_n) = \\frac{P(F \\cap E_n)}{P(E_n)}\\\\ \\tag{1.1}\n",
    "    P(F \\cap E_n) = P(E_n \\cap F) = P(E_n \\mid F)*P(F)\\\\\n",
    "    P(E_n \\mid F) = 1\\\\\n",
    "    P(F \\cap E_n) = P(F) = \\frac{7}{10}\\\\\n",
    "    P(F \\mid E_n) = \\frac{P(F \\cap E_n)}{P(E_n)} = \\frac{\\frac{7}{10}}{\\left(\\frac{263}{300}\\right)^n}\\\\\n",
    "$$\n",
    "***"
   ]
  },
  {
   "cell_type": "markdown",
   "metadata": {},
   "source": []
  },
  {
   "cell_type": "code",
   "execution_count": 106,
   "metadata": {},
   "outputs": [
    {
     "data": {
      "text/plain": [
       "5"
      ]
     },
     "execution_count": 106,
     "metadata": {},
     "output_type": "execute_result"
    }
   ],
   "source": [
    "def prob_four(n):\n",
    "    #n = 1\n",
    "    top = 7/10\n",
    "    bottom = (1/20)*((4/20)**n) + (1/4)*((4/6)**n)+ (7/10)*1\n",
    "    return top/bottom\n",
    "    \n",
    "\n",
    "def find95confident():\n",
    "    prob = prob_four(1)\n",
    "    n = 1\n",
    "    while(prob < 0.95):\n",
    "        n += 1\n",
    "        prob = prob_four(n)\n",
    "    return n\n",
    "\n",
    "find95confident()"
   ]
  },
  {
   "cell_type": "markdown",
   "metadata": {},
   "source": [
    "**Part F:**  What is the smallest value of $n$ successive rolls of 1, 2, 3 or 4 that would make you believe that there's a better-than-95% chance that the die you grabbed is Four-sided?  Plugging larger and larger values for $n$ into your `prob_four` function is a very reasonable way to check this."
   ]
  },
  {
   "cell_type": "markdown",
   "metadata": {},
   "source": [
    "***\n",
    "<a/ id='p2'></a>\n",
    "[Back to top](#top)\n",
    "\n",
    "### [20 points] Problem 2\n",
    "\n",
    "Oscar and Stella are two average young adult octopuses. They work hard, but they also like to blow off a little steam after work. When they leave work from the CU Engineering Center ($E~$), they each head for one of five other locations: the Gym to get strong ($G~$), the Library to get learned ($L~$), the Boulder Reservoir to have a nice swim ($R$), the Hill to have a sandwich ($H~$), or to Brewing Market to have a nice Coffee ($C~$).  \n",
    "\n",
    "Here are some rules governing their movements throughout the fair city of Boulder:\n",
    "* When Oscar and/or Stella is leaving one location, they randomly select one of the available adjacent locations, with equal probability.\n",
    "* This includes back-tracking, but note that to return to their original location would require 2 moves.\n",
    "* Assume that all moves require the same amount of time.\n",
    "* They are also not allowed to stay put; they always must move to some *other* adjacent location.\n",
    "* Oscar and Stella, being the think-for-yourselfers that they are, also act **independently** of one another. That is, the probability that Oscar goes from one place to another is independent of the probability of Stella's movements.\n",
    "* As we learned from your answers to Problem 5 of Homework 1, Stella and Oscar of course prefer to *walk* from place to place, as opposed to swim... because one of an octopus' *three* hearts will stop beating when it swims. Yowza!\n",
    "\n",
    "<img src=\"http://www.cs.colorado.edu/~tonyewong/home/resources/chris_and_dan_statespace.png\" style=\"width: 300px;\"/>"
   ]
  },
  {
   "cell_type": "markdown",
   "metadata": {},
   "source": [
    "**Part A**: Oscar, being a learned octopus, wants to go to the library, but also wants to make a stop somewhere else first, for he has octopus errands to run. Compute (by hand) the probability that Oscar ends up at the the Library ($L$) after first visiting one other location, after he is initially at the Engineering Center ($E$). "
   ]
  },
  {
   "cell_type": "code",
   "execution_count": 254,
   "metadata": {},
   "outputs": [
    {
     "name": "stdout",
     "output_type": "stream",
     "text": [
      "['e', 'r', 'g']\n",
      "0.14512\n"
     ]
    }
   ],
   "source": [
    "import secrets\n",
    "import copy\n",
    "\n",
    "class Graph(object):\n",
    "    nodes = []\n",
    "    edges = {}\n",
    "    \n",
    "    def __init__(self, nodes, edges):\n",
    "        for n in nodes:\n",
    "            self.add_node(n)\n",
    "        for e in edges:\n",
    "            self.add_edge(e)\n",
    "    \n",
    "    def add_node(self, n):\n",
    "        if n in self.nodes:\n",
    "            print(f\"Node {n} already exists in the graph.\")\n",
    "        else:\n",
    "            self.nodes.append(n)\n",
    "            \n",
    "    def add_edge(self, e):\n",
    "        #check if edge exists in the graph already\n",
    "        for edge in self.edges:\n",
    "            if (\n",
    "                (e[0] == edge[0] and e[1] == edge[1]) or\n",
    "                (e[1] == edge[0] and e[0] == edge[1])\n",
    "               ):\n",
    "                print(\"Edge already exists in the graph.\")\n",
    "                return\n",
    "            \n",
    "        #check self-referencing edges\n",
    "        if e[0] == e[1]:\n",
    "            print(\"Can't have a self-referencing edge. Make the start and end nodes different!\")\n",
    "            \n",
    "        #check to make sure the nodes exist in the graph\n",
    "        elif e[0] not in self.nodes or e[1] not in self.nodes:\n",
    "            print(\"At least one of the nodes does not exist in the graph. Can't make an edge to a node that does not exist!\")\n",
    "            \n",
    "        #add the edge after validation!\n",
    "        #add the edge in both directions because it's ALL edges go both directions, they just have different probability\n",
    "        else:\n",
    "            self.edges.update({e : 0})\n",
    "            self.edges.update({(e[1], e[0]) : 0})\n",
    "            self.update_edge_prob(e)\n",
    "    \n",
    "#     #testing utility\n",
    "#     def print_edge_info(self):\n",
    "#         for edge in self.edges:\n",
    "#             print(f\"edge: {edge} prob: {self.edges[edge]}\")\n",
    "    \n",
    "    #helper function for updating edge prob\n",
    "    def update_edge_prob(self, e):\n",
    "        e_opposite = (e[1], e[0])\n",
    "        #update one direction\n",
    "        all_directions_from_e0 = [edge for edge in self.edges if edge[0] == e[0]]\n",
    "        all_directions_from_e1 = [edge for edge in self.edges if edge[0] == e_opposite[0]]\n",
    "        for edge_from_e0_connection in all_directions_from_e0:\n",
    "            self.edges[edge_from_e0_connection] = 1/len(all_directions_from_e0)\n",
    "        for edge_from_e1_connection in all_directions_from_e1:\n",
    "            self.edges[edge_from_e1_connection] = 1/len(all_directions_from_e1)\n",
    "        \n",
    "        \n",
    "\n",
    "class Octopus:\n",
    "#     path = []\n",
    "#     location = \"\"\n",
    "#     graph = Graph([],[])\n",
    "    \n",
    "    def __init__(self, start_node, graph):\n",
    "        self.location = start_node\n",
    "#         self.path.append(self.location)\n",
    "        self.path = [self.location]\n",
    "        self.graph = graph\n",
    "    \n",
    "    #moves the octopus num_spaces\n",
    "    def traverse(self, num_spaces):\n",
    "        for i in range(num_spaces):\n",
    "            possible_movements = self.get_possible_movements(self.location)\n",
    "            next_move = secrets.choice(possible_movements)\n",
    "            self.location = next_move\n",
    "            self.path.append(next_move)\n",
    "    \n",
    "    #reset the octopus back to the start location\n",
    "    def reset(self, start_location):\n",
    "        self.path = [start_location]\n",
    "        self.location = start_location\n",
    "        \n",
    "    #utility for testing mathematical prob        \n",
    "    def get_possible_movements(self, start):\n",
    "        possible_movements = []\n",
    "        for edge in g.edges:\n",
    "                if start == edge[0]:\n",
    "                    possible_movements.append(edge[1])\n",
    "        return possible_movements\n",
    "    \n",
    "#     #utility function for testing...   \n",
    "    def possible_2_length_paths(self, start):\n",
    "        possible_path_list = []\n",
    "        possible_movements_from_current = self.get_possible_movements(start)\n",
    "        for move in possible_movements_from_current:\n",
    "            possible_movements_from_current = self.get_possible_movements(start)\n",
    "            current_path = []\n",
    "            current_path.append(move)\n",
    "            possible_movements_from_current = self.get_possible_movements(move)\n",
    "            for move2 in possible_movements_from_current:\n",
    "                current_path.append(move2)\n",
    "                possible_path_list.append(copy.deepcopy(current_path))\n",
    "                current_path.pop()\n",
    "        return possible_path_list\n",
    "            \n",
    "        \n",
    "\n",
    "#create the graph for problem 2\n",
    "nodes = [\"e\",\"r\",\"g\",\"c\",\"l\",\"h\"]\n",
    "edges = [\n",
    "    (\"r\",\"e\"), \n",
    "    (\"g\",\"e\"), \n",
    "    (\"l\",\"e\"), \n",
    "    (\"c\",\"e\"), \n",
    "    (\"l\",\"c\"), \n",
    "    (\"h\",\"c\"), \n",
    "    (\"h\",\"g\"),\n",
    "    (\"g\",\"l\"),\n",
    "    (\"g\",\"r\"),\n",
    "    (\"h\",\"l\")\n",
    "]\n",
    "g = Graph(nodes, edges)\n",
    "\n",
    "#make oscar and put him on graph G\n",
    "oscar = Octopus(\"e\", g)\n",
    "\n",
    "#runs a bunch of simuliations of oscar moving two spaces from the E\n",
    "#and returns the probability of landing on the library\n",
    "#simulates a certain number of times\n",
    "# def simulate_a(octo, num_sims):\n",
    "#     num_success = 0\n",
    "#     for i in range(num_sims):\n",
    "#         octo.traverse(2)\n",
    "#         if octo.path[2] == \"l\":\n",
    "#             num_success += 1\n",
    "#         octo.reset(\"e\")\n",
    "#     return num_success/num_sims\n",
    "\n",
    "def a_sim(octo):\n",
    "    octo.traverse(2)\n",
    "    if octo.path[2] == 'l':\n",
    "        return True\n",
    "    else:\n",
    "        return False\n",
    "    \n",
    "def sim_n_times(octo, n, sim_func):\n",
    "    total = 0\n",
    "    success_trial = 0\n",
    "    for i in range(n):\n",
    "        octo.reset(\"e\")\n",
    "        total += 1\n",
    "        if(sim_func(octo)):\n",
    "            success_trial += 1\n",
    "    return success_trial/total\n",
    "\n",
    "#this does not validate. just a simple calculation for part A simulation to compare to.\n",
    "#if this was more rigorous we would make sure that a path was possible and maybe\n",
    "#expand to a longer length of path.\n",
    "def calculate_mathematical_prob_of_2_path(start, end):\n",
    "    possible_2_paths\n",
    "    \n",
    "  \n",
    "# g.print_edge_info()\n",
    "oscar.traverse(2)\n",
    "print(oscar.path)\n",
    "\n",
    "print(simulate_a(oscar, 100000))\n",
    "print(f\"Exact mathematical Prob part A: {len(successpath)/len(possible2path)}\")\n",
    "# print(sim_n_times(oscar, 100000, a_sim))\n",
    "\n",
    "# # TESTS for error conditions.\n",
    "# # none of the above lines should work. Should each print something different.\n",
    "# # ########################################################################\n",
    "# #ADD_EDGE:\n",
    "# g.add_edge((\"e\", \"r\"))\n",
    "# g.add_edge((\"r\", \"e\"))\n",
    "# g.add_edge((\"f\",\"e\"))\n",
    "# g.add_edge((\"e\", \"e\"))\n",
    "# # ########################################################################\n",
    "# #ADD_NODE\n",
    "# g.add_node(\"e\")"
   ]
  },
  {
   "cell_type": "markdown",
   "metadata": {},
   "source": [
    "**Part B**: Stella, on the other tentacle, is a body-building octopus. This is quite the feat given her lack of bones! Compute (by hand) the probability that Stella ends up at the Gym _either_ as her first _or_ second location visited after leaving the Reservsoir. (Again, assume that Stella wanders the streets of Boulder randomly using the same rules described above.)"
   ]
  },
  {
   "cell_type": "code",
   "execution_count": null,
   "metadata": {},
   "outputs": [],
   "source": []
  },
  {
   "cell_type": "markdown",
   "metadata": {},
   "source": [
    "**Part C**: Suppose that Oscar works late at the Engineering Center, while Stella goes to the Hill.  Later, they both leave and wander around, randomly and independently of one another, as described above.\n",
    "1. What is the probability that they run into each other in the same location on the first location visited?  \n",
    "2. Given their two initial locations, what is the probability that they meet at the Hill after 2 moves?"
   ]
  },
  {
   "cell_type": "markdown",
   "metadata": {},
   "source": [
    "**Part D**: Write a simulation to confirm that your by-hand calculations in **Part A**, **Part B**, and **Part C** are correct. Make sure you run your simulations for enough trials that your estimates are reasonably close to your analytic results. In addition to showing your code, you should explain in Markdown (not just in code comments) what your code is doing and why it is a reasonable approximation of the probabilities in **Part A**, **Part B**, and **Part C**.  "
   ]
  },
  {
   "cell_type": "markdown",
   "metadata": {},
   "source": [
    "***\n",
    "<a/ id='p3'></a>\n",
    "[Back to top](#top)\n",
    "\n",
    "### [20 points] Problem 3  \n",
    "\n",
    "As part of their Computer Science Jedi training, Tony and Dan are having a lightsaber duel. The rules of the lightsaber duel are as follows:\n",
    "* The duel is composed of a number of rounds.\n",
    "* Each round consists of Tony practicing his sweetest Jedi moves and trying to strike Dan, then Dan practicing *his* best moves and trying to strike Tony.\n",
    "* If Tony manages to strike Dan, then Tony is awarded a point, and similarly if Dan manages to strike Tony, then Dan is awarded a point.\n",
    "* If a round ends in a tie, then Tony and Dan proceed to another round. If a round ends with one Jedi scoring a point but the other one does not, then the Jedi who scored a point wins the duel.\n",
    "\n",
    "Let $T$ be the event that \"Tony wins the duel\", $E$ be the event that \"the duel ends after the first round of lightsaber strikes\", and $C$ be the event that \"the duel continues after the first round of lightsaber strikes\".  Suppose that the result of one lightsaber strike is independent of the other strikes, Tony successfully lands his lightsaber strikes with probability $p$, and Dan lands his strikes with probability $q$.\n",
    "\n",
    "**Part A**: The duel will continue until Tony or Dan wins.  What is the sample space $\\Omega$ for this \"experiment\"?  Represent the outcomes of individual lightsaber strikes by $H$ for a hit and $M$ for a miss, and assume that Tony has the first strike in each round. At the very least, your answer should include all of the events in $\\Omega$ that include one or two rounds."
   ]
  },
  {
   "cell_type": "markdown",
   "metadata": {},
   "source": [
    "**Part B**: Determine $P(T \\mid E)$ in terms of $p$ and $q$."
   ]
  },
  {
   "cell_type": "markdown",
   "metadata": {},
   "source": [
    "**Part C**: Explain why events $C$ and $T$ are independent. "
   ]
  },
  {
   "cell_type": "markdown",
   "metadata": {},
   "source": [
    "**Part D**: Use the Law of Total Probability to show that $P(T) = p(1-q) + (2pq - p - q +1) P(T \\mid C)$. "
   ]
  },
  {
   "cell_type": "markdown",
   "metadata": {},
   "source": [
    "**Part E**: Use the fact from **Part C** that $P(T \\mid C) = P(T)$ to determine $P(T)$ in terms of $p$ and $q$. "
   ]
  },
  {
   "cell_type": "markdown",
   "metadata": {},
   "source": [
    "**Part F**: Explain why the answers to **Part B** and **Part E** are the same. "
   ]
  },
  {
   "cell_type": "markdown",
   "metadata": {},
   "source": [
    "**Part G**: Explain the significance of the solution technique for $P(T)$ outlined in **Part D** and **Part E**.  Why did we go this route instead of computing $P(T)$ directly?  Can we always use such techniques?  What assumption did we need to make in order to use this solution approach?"
   ]
  },
  {
   "cell_type": "markdown",
   "metadata": {},
   "source": [
    "***\n",
    "<a/ id='p4'></a>\n",
    "[Back to top](#top)\n",
    "\n",
    "### [20 points] Problem 4\n",
    "\n",
    "In this problem you will write some code to simulate the game of **Miniopoly** (a very rough approximation of [Monopoly](https://en.wikipedia.org/wiki/Monopoly_(game)).  The game consists of a round board with 40 \"squares\" numbered from $0$ to $39$, where squares $0$ and would-be $40$ are [coincident](https://en.wikipedia.org/wiki/Coincident) and called **GO**.  A player starts on **GO** with \\$200 in their pocket.  On each turn the player rolls a pair of dice and then moves a number of spaces equal to the sum of the dice.  Landing on different squares have different results: \n",
    "\n",
    "- Squares 2, 7, 17, 22, 33, and 36 cause you to draw a card.  The cards tell you to collect \\$50, \\$100 or \\$200, or pay the bank \\$50 or \\$100.  There is always an equal probability associated with each of these possible cards.\n",
    "\n",
    "<p> </p>\n",
    "\n",
    "- Squares 0, 10, and 20 do not trigger any action \n",
    "\n",
    "<p> </p>\n",
    "\n",
    "- Square 30 is **Go To Jail**, which sends the player directly to **Jail** and ends the turn \n",
    "\n",
    "<p> </p>\n",
    "\n",
    "- If a player starts a turn from **Jail** she rolls two dice: \n",
    "\n",
    "    - If the player rolls doubles (i.e. the dice have equal values) the player moves from Square 10 a number of squares equal to the sum of the dice\n",
    "    \n",
    "    - If the player rolls anything other than doubles she pays the bank \\$20 and remains in **Jail** \n",
    "    \n",
    "<p> </p>\n",
    "\n",
    "- If the player passes or lands on **GO** she collects \\$200. \n",
    "\n",
    "<p> </p>\n",
    "\n",
    "- If the player lands on any other square not mentioned above, she pays the bank an amount equal to the square's number (e.g. if she lands on Square 29 she pays the bank \\$29). \n",
    "\n",
    "<p> </p>\n",
    "\n",
    "If at any point the player has \\$0 or less they go bankrupt and the game ends.\n",
    "\n",
    "See [here](http://www.cs.colorado.edu/~tonyewong/home/resources/miniopoly_example.png) for an example of the Miniopoly board layout.\n",
    "\n",
    "<br>\n",
    "\n",
    "**Part A**: Complete the function miniopoly_turn below. The function should simulate one turn of Miniopoly.  It should take as arguments the player's current location on the board as well as the player's current cash reserves, and return the player's new location and cash reserves after the turn has completed. Note that if a player goes bankrupt during the game you should return their cash as 0 instead of a negative value.  "
   ]
  },
  {
   "cell_type": "code",
   "execution_count": null,
   "metadata": {
    "collapsed": true
   },
   "outputs": [],
   "source": [
    "def miniopoly_turn(location, cash):\n",
    "    \n",
    "    # your code goes here!\n",
    "    \n",
    "    return location, cash"
   ]
  },
  {
   "cell_type": "markdown",
   "metadata": {},
   "source": [
    "**Part B**: Use your function from **Part A** to Simulate at least 5000 30-turn games of Miniopoly and make a frequency histogram of the player's cash at the end of the game. "
   ]
  },
  {
   "cell_type": "markdown",
   "metadata": {},
   "source": [
    "**Part C**: Use your code from **Part A** to estimate the probability that a player goes bankrupt in the first 30 turns of the game. "
   ]
  },
  {
   "cell_type": "markdown",
   "metadata": {},
   "source": [
    "**Part D**: Use your code from **Part A** to estimate the probability that a player goes bankrupt in the first 30 turns _given_ that they went to **Jail** at least once.  Is a player more or less likely to go bankrupt if they've been to **Jail**?  "
   ]
  },
  {
   "cell_type": "markdown",
   "metadata": {},
   "source": [
    "**Part E**: Use your code from **Part A** to estimate the probability (either directly or using Bayes' Rule) that a player has gone to jail at least once, given that the player went bankrupt in the first 30 turns."
   ]
  },
  {
   "cell_type": "markdown",
   "metadata": {},
   "source": [
    "***\n",
    "<a/ id='p5'></a>\n",
    "[Back to top](#top)\n",
    "\n",
    "### [20 points] Problem 5\n",
    "\n",
    "Suppose you roll two fair six-sided dice.  Let $C$ be the event that the two rolls are _close_ to one another in value, in the sense that they're either equal or differ by only 1.  \n",
    "\n",
    "**Part A**: Compute $P(C)$ by hand. \n"
   ]
  },
  {
   "cell_type": "markdown",
   "metadata": {},
   "source": [
    "**Part B**: Write a simulation to run many trials (at least 10,000) of the pair of rolls and estimate the value of $P(C)$ you calculated in **Part A**.  Does your estimate agree with the exact calculation you did in **Part A**?  If not, try increasing the number of trials in your simulation. "
   ]
  },
  {
   "cell_type": "markdown",
   "metadata": {},
   "source": [
    "**Part C**: In the in-class notebook associated with Lecture 4 (nb04) we plotted a running estimate of the probability of an event as a function of the number of trials in our simulation.  Write code to run at least 10 independent simulations of at least 50,000 trials each to estimate $P(C)$ and plot their running estimate curves on the same set of axes. **Hint**: This is a lot of computation, so try to leverage Numpy as much as possible so that your code doesn't run forever. "
   ]
  },
  {
   "cell_type": "markdown",
   "metadata": {},
   "source": [
    "**Part D**: Comment on the behavior of the running estimates as the number of trials increases. "
   ]
  },
  {
   "cell_type": "markdown",
   "metadata": {
    "collapsed": true
   },
   "source": [
    "***\n",
    "<a/ id='ch'></a>\n",
    "[Back to top](#top)\n",
    "\n",
    "### Challenge Problem - Night Falls. A Storm Rolls In. Can You Cross The River?\n",
    "\n",
    "In every homework assignment we'll give you a Challenge Problem.  Challenge Problems never need to be turned in (and in fact, will not be graded) but we encourage you to give them a shot (after completing the required homework problems) and discuss them with your classmates and your instructors. \n",
    "\n",
    "This Challenge Problem was a [Riddler](https://fivethirtyeight.com/tag/the-riddler/) on [FiveThirtyEight](https://fivethirtyeight.com) a few years back. \n",
    "\n",
    "You’re on the north shore of a river, and want to cross to the south, via a series of 13 bridges and six islands, which you can see in the diagram below. But, as you approach the water, night falls, a bad storm rolls in, and you’re forced to wait until morning to try to cross. Overnight, the storm could render some of the bridges unusable — it has a 50 percent chance of knocking out each of the bridges. (The chance is independent for each bridge.)\n",
    "\n",
    "<br>\n",
    "\n",
    "![alt text](https://espnfivethirtyeight.files.wordpress.com/2016/01/roeder-riddler-diagram-11.png?w=575&h=449&quality=90&strip=info)\n",
    "\n",
    "<br>\n",
    "\n",
    "What’s the probability you will be able to cross the river in the morning? (You have no boat, can’t swim, can’t fix the bridges, etc. No tricks.)"
   ]
  },
  {
   "cell_type": "code",
   "execution_count": null,
   "metadata": {
    "collapsed": true
   },
   "outputs": [],
   "source": []
  }
 ],
 "metadata": {
  "kernelspec": {
   "display_name": "Python 3",
   "language": "python",
   "name": "python3"
  },
  "language_info": {
   "codemirror_mode": {
    "name": "ipython",
    "version": 3
   },
   "file_extension": ".py",
   "mimetype": "text/x-python",
   "name": "python",
   "nbconvert_exporter": "python",
   "pygments_lexer": "ipython3",
   "version": "3.6.5"
  }
 },
 "nbformat": 4,
 "nbformat_minor": 2
}
