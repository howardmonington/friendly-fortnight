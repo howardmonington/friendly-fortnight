{
 "cells": [
  {
   "cell_type": "markdown",
   "metadata": {},
   "source": [
    "<a/ id='top'></a>\n",
    "# Homework 3: Random Variables and Their Distributions\n",
    "***\n",
    "\n",
    "**Name**: Your Name Here\n",
    "\n",
    "***\n",
    "\n",
    "This assignment is due on Moodle by **5pm on Friday October 12**. Your solutions to theoretical questions should be done in Markdown/MathJax directly below the associated question.  Your solutions to computational questions should include any specified Python code and results as well as written commentary on your conclusions.  Remember that you are encouraged to discuss the problems with your instructors and classmates, but **you must write all code and solutions on your own**. \n",
    "\n",
    "**NOTES**: \n",
    "\n",
    "- Do **NOT** load or use any Python packages that are not available in Anaconda 3.6. \n",
    "- Because you can technically evaluate notebook cells in a non-linear order, it's a good idea to do Cell $\\rightarrow$ Run All as a check before submitting your solutions.  That way if we need to run your code you will know that it will work as expected. \n",
    "- Submit only this Jupyter notebook to Moodle.  Do not compress it using tar, rar, zip, etc. \n",
    "- This should go without saying, but... For any question that asks you to calculate something, you **must show all work to receive credit**. Sparse or nonexistent work will receive sparse or nonexistent credit.\n",
    "\n",
    "---\n",
    "**Shortcuts:**  [Problem 1](#p1) | [Problem 2](#p2) | [Problem 3](#p3) | [Problem 4](#p4) | [Problem 5](#p5)\n",
    "\n",
    "---"
   ]
  },
  {
   "cell_type": "code",
   "execution_count": 51,
   "metadata": {
   "scrolled": true
   },
   "outputs": [],
   "source": [
    "import pandas as pd\n",
    "import numpy as np\n",
    "import matplotlib.pyplot as plt\n",
    "%matplotlib inline"
   ]
  },
  {
   "cell_type": "markdown",
   "metadata": {},
   "source": [
    "<br>\n",
    "\n",
    "---\n",
    "<a/ id='p1'></a>\n",
    "[Back to top](#top)\n",
    "### [20 points] Problem 1\n",
    "\n",
    "Suppose you are modeling the probability of observing flood levels of various heights when there is a storm in a particular coastal city.  Let $X$ be a random variable representing the observed flood height (in feet), which must be nonnegative. There are many different choices for probability density function (pdf) for $X$.  You decide to use the following pdf for $X$:\n",
    "\n",
    "$$\n",
    "f(x) = \\begin{cases}\n",
    "         c \\ x \\ e^{\\left(-\\frac{x^2}{10}\\right)} & 0 \\leq x < \\infty \\\\\n",
    "         0                           & \\text{otherwise}\n",
    "       \\end{cases}\n",
    "$$0\n",
    "where $c$ is some normalizing constant.\n",
    "\n",
    "**Part A**: Determine the value of $c$ such that $f(x)$ is a valid density function. "
   ]
  },
  {
   "cell_type": "markdown",
   "metadata": {},
   "source": [
    "***\n",
    "__Part A Conclusions__:\n",
    "\n",
    "To be a valid density function, the following equality must be true: $$\\int_{-\\infty}^\\infty {cxe^{\\left(-\\frac{x^2}{10}\\right)}dx} = 1$$\n",
    "\n",
    "Because the function only has support on the interval $0\\leq x < \\infty$ the integral that we evaluate is $$\\int_{0}^\\infty {cxe^{\\left(-\\frac{x^2}{10}\\right)}dx} = 1$$\n",
    "\n",
    "We then evaluate this integral:\n",
    "\n",
    "$$\n",
    "    \\lim_{t\\rightarrow \\infty} \\int_{0}^t{cxe^{\\left(-\\frac{x^2}{10}\\right)}dx} = 1 \\\\\n",
    "    u = x^2\\\\\n",
    "    \\\\\n",
    "    du = 2xdx\\\\\n",
    "    \\frac{du}{2x} = dx\\\\\n",
    "    \\lim_{t\\rightarrow \\infty} \\int_{0}^t{\\frac{1}{2}ce^{\\left(-\\frac{u}{10}\\right)}du} = 1 \\\\\n",
    "    \\lim_{t\\rightarrow \\infty}\\left(\\frac{1}{2}c \\int_{0}^t{e^{\\left(-\\frac{u}{10}\\right)}du}\\right) = 1 \\\\\n",
    "    \\lim_{t\\rightarrow \\infty} \\left(-5ce^{-\\frac{u}{10}}\\right)\\Big|_{0}^{t^2} = 1 \\\\\n",
    "    \\lim_{t\\rightarrow \\infty} \\left(-5ce^{-\\frac{t^2}{10}} + 5ce^{-\\frac{0}{10}}\\right) = 1 \\\\\n",
    "    \\\\\n",
    "    \\lim_{t\\rightarrow \\infty}\\left(-5ce^{-\\frac{t^2}{10}}\\right) = 0\\\\\n",
    "    5c = 1\\\\\n",
    "    \\therefore c = \\frac{1}{5} \\square\n",
    "$$\n",
    "***"
   ]
  },
  {
   "cell_type": "markdown",
   "metadata": {},
   "source": [
    "**Part B**: Compute the cumulative density (cdf) function $F(x)$ for $X$.  Then, conduct two sanity checks: First, what should $F(0)$ equal?  Second, what should be the limit of $F(x)$ as $x \\rightarrow \\infty$?  Be sure to **justify** these answers. Verify that $F(0)$ and $\\displaystyle \\lim_{x\\rightarrow \\infty} F(x)$ satisfy your hypotheses using cdf you derived."
   ]
  },
  {
   "cell_type": "markdown",
   "metadata": {},
   "source": [
    "***\n",
    "__Part B Conclusions__:\n",
    "\n",
    "To calculate (cdf) of a continuous distribution we find $F(z)$ which is defined in this case as the cumulative density function (used z instead of x so that it doesn't cause confusion with the way that the distribution is laid out in the problem statement)\n",
    "$$\n",
    "    F(x)=\\int_{-\\infty}^{x} {\\frac{1}{5}xe^{\\left(-\\frac{x^2}{10}\\right)}dx}\\\\\n",
    "$$\n",
    "\n",
    "Again, because there's only support on the interval $0 \\leq x < \\infty$ we modify $F(x)$\n",
    "\n",
    "$$\n",
    "    F(x)=\\int_{0}^{x} {\\frac{1}{5}xe^{\\left(-\\frac{x^2}{10}\\right)}dx}\\\\\n",
    "$$\n",
    "\n",
    "Based on what we know about CDF and PDF, we expect \n",
    "$$F(0) = 0\\\\ $$  \n",
    "We can determine this because there is only support starting at $x = 0$.  We also know that probability at any exact value is $0$. In the case of $F(0) = F(X \\leq 0)$, the interval that is considered is when $x = 0$ exactly, which is $0$.\n",
    "\n",
    "Because of the definition of a CDF, we expect\n",
    "$$\n",
    "    \\lim_{x \\to \\infty} F(x) = 1\n",
    "$$\n",
    "\n",
    "Evaluating the previous integral, \n",
    "$$\n",
    "    \\int_{0}^{x} {\\frac{1}{5}xe^{\\left(-\\frac{x^2}{10}\\right)}dx} = \n",
    "    -e^{-\\frac{x^2}{10}} + e^{-\\frac{0}{10}} = \n",
    "    -e^{-\\frac{x^2}{10}} + 1 =\n",
    "    F(x) \\\\\n",
    "    \\\\\n",
    "$$\n",
    "\n",
    "Confirming the hypotheses about $$\\lim_{x \\to \\infty} F(x)\\text{ and }F(0)$$\n",
    "\n",
    "$$\n",
    "    F(0) = -e^{-\\frac{0^2}{10}} + 1 = -1 + 1 = 0 \\square\\\\\n",
    "    \\text{and}\\\\\n",
    "    \\lim_{x \\to \\infty} -e^{-\\frac{0^2}{10}} = 0\\\\\n",
    "    \\\\\n",
    "    \\therefore \\lim_{x \\to \\infty}F(x) = 1 \\square\n",
    "$$\n",
    "***"
   ]
  },
  {
   "cell_type": "markdown",
   "metadata": {},
   "source": [
    "**Part C:**  Use the cdf you derived in **Part B** to calculate the median, $\\tilde{x}$, of the probability density for $X$."
   ]
  },
  {
   "cell_type": "markdown",
   "metadata": {},
   "source": [
    "***\n",
    "__Part C Conclusions__:\n",
    "\n",
    "Median is found at the point that separates the top half of the data vs. the bottom half. If we know the entire area under $F(x) = 1$, then we know that:\n",
    "\n",
    "$\\widetilde{x} = x \\text{ when } F(x) = 0.5$\n",
    "\n",
    "Using the answer that we found in Part B:\n",
    "$$\n",
    "    F(x) = -e^{-\\frac{x^2}{10}} + 1\\\\\n",
    "    0.5 = -e^{-\\frac{x^2}{10}} + 1\\\\\n",
    "    -0/5 = -e^{-\\frac{x^2}{10}}\\\\\n",
    "    0.5 = e^{-\\frac{x^2}{10}}\\\\\n",
    "    ln(0.5) = ln(e^{-\\frac{x^2}{10}})\\\\\n",
    "    ln(0.5) = -\\frac{x^2}{10}\\\\\n",
    "    -10*0.5 = x^2\\\\\n",
    "    \\sqrt{-10*0.5} = x\\\\\n",
    "    \\widetilde{x} \\approx 2.633 \\square \\\\\n",
    "$$\n",
    "***"
   ]
  },
  {
   "cell_type": "markdown",
   "metadata": {},
   "source": [
    "**Part D**: It is a well-known fact that if there is a storm in your coastal city, if the flood level exceeds 6 feet, then the town will become inundated with octopuses in an event known localy as **Octogeddon**. Use the cdf you computed in **Part B** to find the probability that a given storm is an Octogeddon. "
   ]
  },
  {
   "cell_type": "markdown",
   "metadata": {},
   "source": []
  },
  {
   "cell_type": "markdown",
   "metadata": {
    "collapsed": true
   },
   "source": [
    "***\n",
    "__Part D Conclusions__:\n",
    "\n",
    "Let event A be the chance that there is __OCTOGEDDON__\n",
    "\n",
    "$$\n",
    "    P(A) = P(X>6)\\\\\n",
    "    \\\\\n",
    "    P(X>6) = 1 - P(X \\leq 6) = 1 - F(6)\\\\\n",
    "    1 - F(6) = 1-\\left(-e^{-\\frac{6^2}{10}} + 1\\right) \\approx 0.0273 \\approx P(A)\\\\\n",
    "$$\n",
    "\n",
    "There is about a 2.73% chance of __OCTOGEDDON__ with any given storm. $\\square$\n",
    "***"
   ]
  },
  {
   "cell_type": "markdown",
   "metadata": {},
   "source": [
    "**Part E:** You have been painstakingly collecting data on storms in your city, and have determined that storms occur at an average rate of 5 per year. To makes things a bit more precise, the pdf from **Part A** really describes the distribution of flood heights *given* that there is a storm, $P(X \\mid \\text{storm})$. You may assume that storms occur as independent events of one another.\n",
    "\n",
    "What is the probability of observing 3 storms in a given year, none of which are Octogeddons?\n",
    "\n",
    "That is, what is $P(3 \\text{ non-Octogeddon storms} \\cap 3 \\text{ storms})$?"
   ]
  },
  {
   "cell_type": "markdown",
   "metadata": {},
   "source": []
  },
  {
   "cell_type": "markdown",
   "metadata": {
    "collapsed": true
   },
   "source": [
    "***\n",
    "__Part E Conclusions__:\n",
    "\n",
    "Let A be the event that there is are 3 storms in a year.\n",
    "\n",
    "We can think of the number of storms occuring modeled by a Poisson distribution with $\\lambda = 5$\n",
    "\n",
    "So evaluating for $X~Pois(5)$ when $X = 3$... We want to find $f(3)$\n",
    "\n",
    "$$\n",
    "    P(A) = \\frac{5^3}{3!}e^{-5} \n",
    "$$\n",
    "\n",
    "Let B be the event there are 3 __OCTOGEDDON__s\n",
    "\n",
    "This can be modeled by a binomial distribution with coeff $3 \\choose 3$.\n",
    "\n",
    "$$\n",
    "    P(OCTOGEDDON) = p \\approx 0.0273 \\\\ \n",
    "    P(\\overline{OCTOGEDDON}) = 1 - p \\approx 0.973\\\\\n",
    "    bin(3, 3) = {3\\choose3}(1-p)^3 \\approx 0.920 = P(B \\mid A)\n",
    "$$\n",
    "\n",
    "We assume that P(__OCTOGEDDON__) is P(__OCTOGEDDON__ | Storm) based on problem statement for part E, and interpolate to 3 OCTOGEDDONS and 3 storms\n",
    "\n",
    "Finally:\n",
    "\n",
    "$$\n",
    "    P(A \\cap B) = P(B \\mid A)P(A)\\\\\n",
    "    P(A \\cap B) = 0.920*\\frac{5^3}{3!}e^{-5} \\square\n",
    "$$\n",
    "\n",
    "***"
   ]
  },
  {
   "cell_type": "markdown",
   "metadata": {},
   "source": [
    "<br>\n",
    "\n",
    "---\n",
    "<a/ id='p2'></a>\n",
    "[Back to top](#top)\n",
    "### [20 points] Problem 2\n",
    "\n",
    "You are waiting in line at the grocery store. It is taking _forever_!  There are only two lines open; one is being tended by a cashier named [John Henry](https://en.wikipedia.org/wiki/John_Henry_(folklore)), and the other is tended by a [self check-out machine](https://theconversation.com/the-economics-of-self-service-checkouts-78593). Like all human beings when they arrive at the front of the store to check-out and encounter lines everywhere, you first experience a moment of intense panic. _Which line will be the fastest?_ you wonder, as people shuffle around you.\n",
    "\n",
    "You decide you need to model the arrival of customers at the front of each of the lines.  From your Intro to Data Science class you remember that the distribution of times _between_ independent arrivals is often modeled using an Exponential distribution.  You observe the following:\n",
    "* John's line checks-out an average of 4 customers per ten minutes,\n",
    "* the self check-out machine checks-out an average of 5 customers per ten minutes **if** the machine is working properly, \n",
    "* the self check-out machine checks-out an average of 1 customer per ten minutes if the machine is freezing up, and\n",
    "* in any given moment, the self check-out machine has a probability of 0.1 of freezing up.\n",
    "\n",
    "Answer the following questions about this scenario. **Note** that for **Parts B-D** you should clearly express the computation you're doing with math, but feel free to do any fancy function evaluations with Python. \n",
    "\n",
    "**Part A**:  Assuming the between-customer times do in fact follow exponential distributions, what distributions do you expect the **number** of customers who pass through each line in a given 10-minute interval to follow?  What are the parameter(s) of each distribution?  Note that you should consider both the case where the self check-out is working properly and when it is broken."
   ]
  },
  {
   "cell_type": "markdown",
   "metadata": {},
   "source": [
    "***\n",
    "__Part A Conclusions__:\n",
    "\n",
    "### John's Line:\n",
    "\n",
    "Distribution: X~Pois(4)\n",
    "\n",
    "Parameter: $\\lambda = 4$\n",
    "\n",
    "E[X] = 4 = $\\lambda$\n",
    "\n",
    "### Self Checkout:\n",
    "\n",
    "__WORKING__:\n",
    "\n",
    "Distribution: Y~Pois(5)\n",
    "\n",
    "Parameter = $\\lambda = 5$\n",
    "\n",
    "E[X] = 5 = $\\lambda$\n",
    "\n",
    "__BROKEN__:\n",
    "\n",
    "Distribution: Z~Pois(1)\n",
    "\n",
    "Parameter = $\\lambda = 1$\n",
    "\n",
    "E[X] = 1 = $\\lambda$\n",
    "***"
   ]
  },
  {
   "cell_type": "markdown",
   "metadata": {},
   "source": [
    "**Part B**:  What is the probability that 6 customers pass through John's line in the next 10 minutes?  What about the self check-out, assuming that it is working?  What about the self check-out, assuming that it is frozen?"
   ]
  },
  {
   "cell_type": "markdown",
   "metadata": {
    "collapsed": true
   },
   "source": [
    "***\n",
    "__Part B Conclusions__:\n",
    "\n",
    "### John's Line:\n",
    "\n",
    "$$\n",
    "    f(X = 6) = \\frac{4^6e^{-4}}{6!}\n",
    "$$\n",
    "\n",
    "### Self Checkout:\n",
    "\n",
    "__WORKING__:\n",
    "\n",
    "$$\n",
    "    f(Y = 6) = \\frac{5^6e^{-5}}{5!}\n",
    "$$\n",
    "\n",
    "__BROKEN__:\n",
    "\n",
    "$$\n",
    "    f(Z = 6) = \\frac{1^6e^{-1}}{1!}\n",
    "$$\n",
    "***"
   ]
  },
  {
   "cell_type": "markdown",
   "metadata": {},
   "source": [
    "**Part C:**  Use your answer to **Part B** and the Law of Total Probability to calculate the probability that the self check-out tends 6 customers is the next 10 minutes."
   ]
  },
  {
   "cell_type": "markdown",
   "metadata": {},
   "source": []
  },
  {
   "cell_type": "markdown",
   "metadata": {
    "collapsed": true
   },
   "source": [
    "***\n",
    "__Part C Conclusions__:\n",
    "\n",
    "Let A be the event that self checkout is working.\n",
    "\n",
    "Let S be the event that the self check-out tends 6 customers in 10 minutes.\n",
    "\n",
    "$$\n",
    "    P(A) = 0.9 \\\\\n",
    "    1-P(A) = 0.1 = P(A^c) \\\\ \n",
    "    \\text{and}\\\\\n",
    "    P(S) = f(Y = 6)P(A) + f(Y=6)P(A^c)\\\\\n",
    "    P(S) = \\frac{5^6e^{-5}}{5!}*0.9 + \\frac{1^6e^{-1}}{1!}*0.1 \\square\n",
    "$$\n",
    "***"
   ]
  },
  {
   "cell_type": "markdown",
   "metadata": {},
   "source": [
    "**Part D**:  S'pose John is working a 5-hour shift from 4-9 PM after school. He gets no breaks, because the year is 1870 and worker's rights is not yet a thing.  Calculate **exactly** (aside from rounding) the probability that he serves 100 or more customers during his shift.  (Assume we can safely scale our data up to a 5-hour interval.)"
   ]
  },
  {
   "cell_type": "markdown",
   "metadata": {},
   "source": []
  },
  {
   "cell_type": "markdown",
   "metadata": {
    "collapsed": true
   },
   "source": [
    "***\n",
    "__Part D Conclusions__:\n",
    "\n",
    "$$\n",
    "    \\lambda = \\frac{4 \\text{ cust}}{10 \\text{ min}}\\times\\frac{300 \\text{ min}}{\\text{shift}} = 120\n",
    "$$\n",
    "\n",
    "Let W~Pois(120) model the distribution of customers that come during his shift\n",
    "\n",
    "$$\n",
    "    CDF = \\sum_{i = 0}^{x}{f(i)}\\\\\n",
    "    \\text{so for our distribution:}\\\\\n",
    "    CDF = \\sum_{i = 0}^{x}{\\frac{\\lambda^ie^{-\\lambda}}{i!}} = \\sum_{i = 0}^{x}{\\frac{120^ie^{-120}}{i!}}\\\\\\\n",
    "$$\n",
    "\n",
    "$$\n",
    "    P(W \\geq 100) = 1 - P(W < 100) = 1 - F(W = 99)=\\\\\n",
    "    1-\\sum_{i = 0}^{99}{\\frac{120^ie^{-120}}{i!}}\\square\n",
    "$$\n",
    "\n",
    "to find this __EXACT__ value we run in the python script below.\n",
    "***"
   ]
  },
  {
   "cell_type": "code",
   "execution_count": 52,
   "metadata": {},
   "outputs": [
    {
     "name": "stdout",
     "output_type": "stream",
     "text": [
      "0.9721362601094793\n"
     ]
    }
   ],
   "source": [
    "import math\n",
    "\n",
    "def summation_with_func(low, high, func):\n",
    "    sum = 0\n",
    "    for i in range(low, high + 1):\n",
    "        sum += func(i)\n",
    "    return sum\n",
    "\n",
    "def pois_pdf(x, lam = 120):\n",
    "    return ((lam**x*math.exp(-lam))/(math.factorial(x)))\n",
    "\n",
    "print(1 - summation_with_func(0, 99, pois_pdf))"
   ]
  },
  {
   "cell_type": "markdown",
   "metadata": {},
   "source": [
    "***\n",
    "__FINAL ANSWER PART D__:\n",
    "\n",
    "Based on the summation function above, which calculates the exact value of the equation listed in part D, we conclude that the probability that John Henry gets 100 customers through his line during his 5 hour shift is 96.53 percent.\n",
    "***"
   ]
  },
  {
   "cell_type": "markdown",
   "metadata": {},
   "source": [
    " bbbbbbbbbbbbbbbbbbbbbbbbbbbbbbbbbbbbbbbb\n",
    "Use this function to estimate the probability of the self check-out machine serves 100 or more customers in a 5-hour shift, and report your result.\n",
    "\n",
    "Finally, use **this same function**, to verify your answer to **Part D**.\n",
    "\n",
    "**Caution!**  Be aware that in some Numpy or Scipy functions for distribution and/or random variables, the conventions for the parameter arguments may differ from those used in class."
   ]
  },
  {
   "cell_type": "code",
   "execution_count": 54,
   "metadata": {},
   "outputs": [
    {
     "name": "stdout",
     "output_type": "stream",
     "text": [
      "Part D confirmation: 0    0.9778\n",
      "dtype: float64\n",
      "Part E simulation results: 0    0.7112\n",
      "dtype: float64\n"
     ]
    }
   ],
   "source": [
    "def checkout_count(time_len, rate_work, rate_broken = 0, p = 1):\n",
    "    \"\"\"\n",
    "    Input: \n",
    "        time_len (int): the length of time that you want to simulate (in min)\n",
    "        rate_work (int): is rate for when the machine is working (per min)\n",
    "        rate_broken (int): is rate for when the machine is not working (per min)\n",
    "        p (float): percenter that the machine is working properly\n",
    "        \n",
    "    Output:\n",
    "        num_customers (int): the number of customers that get through the checkout line in the specified time_len\n",
    "    \"\"\"\n",
    "    num_customers = 0\n",
    "    #if the alloted time has not elapsed\n",
    "    #this makes the assumption that the end of the shift is after the last customer is taken care of\n",
    "    #even if the customer comes within a second of the time_len, they are taken care of\n",
    "    while time_len > 0:\n",
    "        time_til_customer = 0\n",
    "        #if is broken use the rate_broken for the exponential\n",
    "        if isBroken(1-p):\n",
    "            time_til_customer = np.random.exponential(1/rate_broken)\n",
    "        #else use lam broke\n",
    "        else:\n",
    "            time_til_customer = np.random.exponential(1/rate_work)\n",
    "        time_len -= time_til_customer\n",
    "        num_customers += 1\n",
    "    \n",
    "    return num_customers\n",
    "\n",
    "def isBroken(p):\n",
    "    return bool(np.random.binomial(1,p))\n",
    "\n",
    "#test to confirm answer to part D\n",
    "results = []\n",
    "for i in range(5000):\n",
    "    results.append(checkout_count(time_len = 300, rate_work = 0.4))\n",
    "    \n",
    "dfD = pd.DataFrame(results)\n",
    "print(f\"Part D confirmation: {dfD.apply(lambda val: (val >= 100)).sum()/len(dfD)}\")\n",
    "\n",
    "#part E simulation\n",
    "results = []\n",
    "for i in range(5000):\n",
    "    results.append(checkout_count(time_len = 300, rate_work = 0.5, rate_broken = 0.1, p = 0.9))\n",
    "\n",
    "dfE = pd.DataFrame(results)\n",
    "print(f\"Part E simulation results: {dfE.apply(lambda val: (val >= 100)).sum()/len(dfE)}\")"
   ]
  },
  {
   "cell_type": "markdown",
   "metadata": {},
   "source": [
    "**Part F:** Comment on the results you found in **Part E** for the probabilities that John and the self check-out machine will serve 100 or more customers in a 5-hour block. Which seems like a better investment for the grocery store?"
   ]
  },
  {
   "cell_type": "code",
   "execution_count": 55,
   "metadata": {},
   "outputs": [
    {
     "name": "stdout",
     "output_type": "stream",
     "text": [
      "Var of John Henry: 0    120.722678\n",
      "dtype: float64\n",
      "         Var of Checkout Machine: 0    253.805631\n",
      "dtype: float64\n"
     ]
    },
    {
     "data": {
      "image/png": "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\n",
      "text/plain": [
       "<Figure size 1152x576 with 2 Axes>"
      ]
     },
     "metadata": {
      "needs_background": "light"
     },
     "output_type": "display_data"
    }
   ],
   "source": [
    "fig, ax = plt.subplots(2,1, figsize = (16,8))\n",
    "bins = range(50, 200, 10)\n",
    "dfD.hist(ax = ax[0],\n",
    "         facecolor = \"yellow\",\n",
    "        edgecolor = \"black\",\n",
    "        bins = bins,\n",
    "        density = True)\n",
    "\n",
    "dfE.hist(ax = ax[1],\n",
    "         facecolor = \"red\",\n",
    "        edgecolor = \"black\",\n",
    "        bins = bins,\n",
    "        density = True)\n",
    "\n",
    "for axis in ax:\n",
    "    axis.grid(alpha = 0.25)\n",
    "    axis.set_ylabel(\"density\")\n",
    "    axis.set_xlabel(\"number of customers moved in a 5 hour shift\")\n",
    "\n",
    "ax[0].set_title(\"# of customers in shift - John Henry\")\n",
    "ax[1].set_title(\"# of customers in shift - Check-out machine\")\n",
    "print(f\"Var of John Henry: {dfD.var()}\\n \\\n",
    "        Var of Checkout Machine: {dfE.var()}\")"
   ]
  },
  {
   "cell_type": "markdown",
   "metadata": {},
   "source": [
    "***\n",
    "__Part E Conclusions__:\n",
    "\n",
    "Based on the histograms above, if the comparison were 1:1 between one actual checkout person, and a checkout machine, the winner based on pure customer transactions is John Henry. He was able to move over 100 customers during his shift almost 98% of the time, whereas the checkout machine only could do the same metrics 73% of the time.  Also, the variance for the checkout machine was much higher showing that John has higher consistency when determining how many customers can be processed.\n",
    "\n",
    "Based on cost however, and the ability to fit many checkout machines in one area, for the cost of one employee, who we will guess can oversee 6 checkout machines (PLACE SCANNED ITEM IN BAGGING AREA!........ ASSITANCE REQUESTED) vs. the cost of one employee running ONE checkout line, it is clear that more customers can be moved based on square foot if there are many checkout machines in the place of one or two lanes of personel manned lanes.\n",
    "\n",
    "In my opinion I think that a mixture of both actual employees and some checkout machines is the choice for customer satisfaction and company profits.\n",
    "***"
   ]
  },
  {
   "cell_type": "markdown",
   "metadata": {
    "collapsed": true
   },
   "source": [
    "### [20 points] Problem 3 - how to commit fraud\n",
    "***\n",
    "\n",
    "Let $X =$ the leading digit of a randomly selected number from a large accounting\n",
    "ledger. For example, if we randomly draw the number \\$20,695, then $X = 2.$\n",
    "\n",
    "People who make up numbers to commit accounting fraud tend to give $X$ a\n",
    "(discrete) uniform distribution, i.e., $P(X = x) = \\frac{1}{9}$, for $x \\in \\{1, ..., 9\\}$. However,\n",
    "there is empirical evidence that suggests that _naturally occurring_ numbers (e.g.,\n",
    "numbers in a non-fraudulent accounting ledgers) have leading digits that do not\n",
    "follow a uniform distribution. Instead, they follow a distribution defined by the following probability mass function:\n",
    "\n",
    "$$\n",
    "f(x) = \\log_{10}\\left( \\frac{x+1}{x} \\right) \\quad \\textrm{for } x = 1, 2, \\ldots, 9\n",
    "$$"
   ]
  },
  {
   "cell_type": "markdown",
   "metadata": {},
   "source": [
    "**Part A**: Write a function pmf_natural that implements $f(x)$. Your function should take in an integer $x$ and return $f(x) = P(X = x)$.  Use your function to argue that $f(x)$ is a well-defined probability mass function. "
   ]
  },
  {
   "cell_type": "code",
   "execution_count": 56,
   "metadata": {},
   "outputs": [
    {
     "name": "stdout",
     "output_type": "stream",
     "text": [
      "F(omega) = 0    1.0\n",
      "dtype: float64\n"
     ]
    },
    {
     "data": {
      "image/png": "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\n",
      "text/plain": [
       "<Figure size 576x576 with 1 Axes>"
      ]
     },
     "metadata": {
      "needs_background": "light"
     },
     "output_type": "display_data"
    }
   ],
   "source": [
    "def pmf_natural(x):\n",
    "    return math.log((x+1)/x, 10)\n",
    "\n",
    "pmf = [0]\n",
    "for i in range(1, 10):\n",
    "    pmf.append(pmf_natural(i))\n",
    "    \n",
    "df = pd.DataFrame(pmf)\n",
    "fig, ax = plt.subplots(1,1, figsize = (8,8))\n",
    "df.plot.bar(ax = ax)\n",
    "Pomega = df.sum()\n",
    "print(f\"F(omega) = {Pomega}\")"
   ]
  },
  {
   "cell_type": "markdown",
   "metadata": {},
   "source": [
    "***\n",
    "__Part A Conclusions__:\n",
    "To be a well defined PMF, two rules must be satisfied,\n",
    "\n",
    "1.) $F(x) \\geq 0 \\in x = 1, 2, \\dots, 9$\n",
    "We can see that this is true from the bar plot above.\n",
    "\n",
    "2.) $F(\\Omega) = 1$\n",
    "From the print statement, this is also true.\n",
    "\n",
    "In terms of if I actually think this is a good estimate of accounting ledgers; I'm a statistician, not an accountant... Looks good to me!\n",
    "***"
   ]
  },
  {
   "cell_type": "markdown",
   "metadata": {},
   "source": [
    "**Part B**: Use the function you wrote above to make two bar plots describing the pmf of the naturally occurring numbers as well as the discrete uniform distribution.  Make sure that the $x$- and $y$-limits on your plots are the same so that the two distributions are easy to compare. Please make one plot directly above the other. "
   ]
  },
  {
   "cell_type": "code",
   "execution_count": 57,
   "metadata": {},
   "outputs": [
    {
     "data": {
      "text/plain": [
       "Text(0.5,1,'Naturally occuring - leading digit probability')"
      ]
     },
     "execution_count": 57,
     "metadata": {},
     "output_type": "execute_result"
    },
    {
     "data": {
      "image/png": "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\n",
      "text/plain": [
       "<Figure size 1152x576 with 2 Axes>"
      ]
     },
     "metadata": {
      "needs_background": "light"
     },
     "output_type": "display_data"
    }
   ],
   "source": [
    "fraud_prob = [0]\n",
    "for i in range(1, 10):\n",
    "    fraud_prob.append(1/9)\n",
    "fig, ax = plt.subplots(2,1,figsize=(16,8))\n",
    "pd.DataFrame(fraud_prob).plot.bar(ax = ax[0],\n",
    "                                 facecolor = \"red\",\n",
    "                                 edgecolor = \"black\")\n",
    "df.plot.bar(ax = ax[1],\n",
    "           facecolor = \"green\",\n",
    "           edgecolor = \"black\")\n",
    "\n",
    "for axis in ax:\n",
    "    axis.set_xlim(0.5, 10)\n",
    "    axis.set_ylim(0,0.35)\n",
    "    axis.set_xlabel(\"Leading digit\")\n",
    "    axis.set_ylabel(\"Probability of\")\n",
    "    \n",
    "ax[0].set_title(\"Discrete Uniform (Fraudlent) - leading digit probability\")\n",
    "ax[1].set_title(\"Naturally occuring - leading digit probability\")"
   ]
  },
  {
   "cell_type": "markdown",
   "metadata": {},
   "source": [
    "**Part C**: Write a function cdf_natural that implements the cumulative distribution function $F(y)$ for $X$ and use it to compute the probability that the leading digit in a number is at most 4 and at most 5. "
   ]
  },
  {
   "cell_type": "code",
   "execution_count": 59,
   "metadata": {},
   "outputs": [],
   "source": [
    "def cdf_natural(y):\n",
    "    sum = 0\n",
    "    for i in range(1, y+1):\n",
    "        sum += pmf_natural(i)\n",
    "    return sum"
   ]
  },
  {
   "cell_type": "markdown",
   "metadata": {},
   "source": [
    "***\n",
    "__Part C Hand-work__:\n",
    "\n",
    "Let A be event that leading digit is at most 4, that is $F(X = 4)$\n",
    "\n",
    "Let B be event that leading digit is at most 5, that is $F(X = 5)$\n",
    "\n",
    "$$\n",
    "    CDF, F(x) = \\sum_{i = 0}^{x}{\\log_{10}\\left( \\frac{x+1}{x} \\right)}\n",
    "$$\n",
    "***"
   ]
  },
  {
   "cell_type": "code",
   "execution_count": 58,
   "metadata": {},
   "outputs": [
    {
     "name": "stdout",
     "output_type": "stream",
     "text": [
      "At most 4: 0.6989700043360187\n",
      "At most 5: 0.7781512503836435\n"
     ]
    }
   ],
   "source": [
    "print(f\"At most 4: {cdf_natural(4)}\\nAt most 5: {cdf_natural(5)}\")"
   ]
  },
  {
   "cell_type": "markdown",
   "metadata": {},
   "source": [
    "**Part D**: The data in tax_data.txt contains the taxable income for individuals in 1978. Use Pandas and the information from **Parts A-D** to determine whether or not the dataset is likely fraudulent.  In addition to code and any graphical summaries, make sure to clearly justify your conclusion in words. "
   ]
  },
  {
   "cell_type": "code",
   "execution_count": 62,
   "metadata": {},
   "outputs": [
    {
     "data": {
      "text/plain": [
       "Text(0,0.5,'frequency')"
      ]
     },
     "execution_count": 62,
     "metadata": {},
     "output_type": "execute_result"
    },
    {
     "data": {
      "image/png": "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\n",
      "text/plain": [
       "<Figure size 1152x576 with 1 Axes>"
      ]
     },
     "metadata": {
      "needs_background": "light"
     },
     "output_type": "display_data"
    }
   ],
   "source": [
    "#clean the dataset\n",
    "import re\n",
    "\n",
    "#import all of the lines of the tax data file\n",
    "#https://stackoverflow.com/questions/3277503/in-python-how-do-i-read-a-file-line-by-line-into-a-list\n",
    "with open(\"tax_data.txt\") as f:\n",
    "    dirtytaxincomes = f.readlines()\n",
    "\n",
    "#REFERENCES:\n",
    "#https://stackoverflow.com/questions/29570771/re-sub-on-lists-python-3\n",
    "#https://stackoverflow.com/questions/29403784/python-extract-pattern-from-string-using-regex\n",
    "#get the numbers at the end of the line, which is the tax income\n",
    "p = re.compile(r\"[0-9]+$\")\n",
    "cleantaxincomes = [re.findall(p, income) for income in dirtytaxincomes]\n",
    "#remove empties from the list of lists, \n",
    "#and turn the len 1 lists into straight up numbers\n",
    "cleanertaxincomes = []\n",
    "for l in cleantaxincomes:\n",
    "    if l:\n",
    "        cleanertaxincomes.append(l[0])\n",
    "        \n",
    "#REFERENCES:\n",
    "#https://stackoverflow.com/questions/41271299/how-can-i-get-the-first-two-digits-of-a-number\n",
    "#Get the first digit of each of the numbers\n",
    "cleanesttaxincomes = [int(str(income)[0]) for income in cleanertaxincomes]\n",
    "#finally we have the clean data that we need!\n",
    "\n",
    "#REFERENCES:\n",
    "#https://stackoverflow.com/questions/42315072/python-update-a-key-in-dict-if-it-doesnt-exist/42315099\n",
    "#make a \n",
    "actual_probs = {}\n",
    "for leading_digit in cleanesttaxincomes:\n",
    "    if leading_digit not in actual_probs:\n",
    "        actual_probs[leading_digit] = 1\n",
    "    else:\n",
    "        actual_probs[leading_digit] += 1\n",
    "\n",
    "prob_list = [0] * 10\n",
    "for key in actual_probs:\n",
    "    prob_list[key] = actual_probs[key]\n",
    "\n",
    "fig, ax = plt.subplots(1,1, figsize = (16, 8))\n",
    "pd.DataFrame(prob_list).plot.bar(ax = ax,\n",
    "                                facecolor = \"green\",\n",
    "                                edgecolor = \"brown\")\n",
    "\n",
    "ax.set_title(\"frequency of leading digits in actual tax data\")\n",
    "ax.set_xlabel(\"leading digit\")\n",
    "ax.set_ylabel(\"frequency\")"
   ]
  },
  {
   "cell_type": "markdown",
   "metadata": {},
   "source": [
    "***\n",
    "__Part D Conclusions__:\n",
    "\n",
    "The actual tax data looks much more closely like the REAL data than it does the fraud with similar shape.\n",
    "***"
   ]
  },
  {
   "cell_type": "markdown",
   "metadata": {},
   "source": []
  },
  {
   "cell_type": "markdown",
   "metadata": {},
   "source": [
    "### [20 points] Problem 4\n",
    "***\n",
    "\n",
    "Well. They're back at it. Tony and Dan are honing their lightsaber skills, and this time they've got a _new_ tournament format. (They wouldn't have had to switch formats, but you figured out all the probabilities for their previous tournament format two weeks ago, so this is on you.)\n",
    "\n",
    "The new format is a _Best-of-9 Series_ of individual duels. The first professor to win 5 duels is declared the winner. Each duel can be considered to be independent of all previous duels. Moreover, a rigorous statistical analysis of Tony's and Dan's strengths, weaknesses, and handwriting, has revealed that Tony has an edge: the probability that Tony wins any one duel against Dan is given by $p=0.56$."
   ]
  },
  {
   "cell_type": "markdown",
   "metadata": {},
   "source": [
    "**Part A**: What is the probability that Tony wins the 9-duel series on the 8th duel? "
   ]
  },
  {
   "cell_type": "markdown",
   "metadata": {},
   "source": []
  },
  {
   "cell_type": "markdown",
   "metadata": {
    "collapsed": true
   },
   "source": [
    "***\n",
    "__Part A Work__:\n",
    "\n",
    "This can be modeled with a negative binomial distribution, X~NB(5, 0.56).  r is 5 because that is the number of duels to be declared the winner, and p=0.56 because that is the probability of Tony winning an individual duel. We want to find f(k) where k = 8. The probability that Tony gets to 5 wins in 8 rounds\n",
    "\n",
    "$$\n",
    "    \\text{for} X \\text{~}NB(5, 0.56):\\\\\n",
    "    f(k) = {k-1 \\choose r-1}p^r(1-p)^{k-r}\\\\\n",
    "    r = 5,  p = 0.56,  k = 8\\\\\n",
    "    f(8) = {7 \\choose 4}0.56^5(1-0.56)^3 \\square\n",
    "$$\n",
    "***"
   ]
  },
  {
   "cell_type": "markdown",
   "metadata": {},
   "source": [
    "**Part B**: What is the probability that Tony wins the 9-duel series in _any_ valid number of duels? "
   ]
  },
  {
   "cell_type": "markdown",
   "metadata": {},
   "source": []
  },
  {
   "cell_type": "markdown",
   "metadata": {
    "collapsed": true
   },
   "source": [
    "***\n",
    "__Part B Work__:\n",
    "\n",
    "This can be modeled using the CDF of the PMF in Part __A__.\n",
    "\n",
    "The valid number of duels for a win are $x \\in 5, 6, 7, 8, 9$ which means that we want $F(k \\leq 9) - F(k \\leq 4)$.\n",
    "\n",
    "Because there is no support for $k < 5$ (the duel must have at least 5 rounds for a winner to be declared!) we can consider $F(k \\leq 4) = 0$, therefore we want to calculate\n",
    "\n",
    "$$\n",
    "    \\sum_{k = 5}^{9}{{k-1 \\choose 4}0.56^5(1-0.56)^{k-5}} \\square\n",
    "$$\n",
    "***"
   ]
  },
  {
   "cell_type": "markdown",
   "metadata": {},
   "source": [
    "**Part C**: The winner of the tournament will take home \\$10,000 to use for a giant home aquarium for Stella the Octopus. Because the stakes are so high, Tony has decided to hire a famous Jedi consultant, Darth Ketelsen, to help him prepare for each duel. \n",
    "\n",
    "With Ketelsen's help, Tony's probability of winning any given match increases to $p = 0.7$. Ketelsen charges a fee of 90 per game, but as a testament to her confidence in her abilities, only charges Tony the \\$90 for games that he wins and _only if Tony wins the whole tournament_.  So, if Tony competes in a 9-duel tournament and wins, he will take home 10,000 _minus_ 450 for Darth Ketelsen's fees, for a total payout of 9,550.  What is the expected payout for a 9-duel series?   "
   ]
  },
  {
   "cell_type": "markdown",
   "metadata": {},
   "source": []
  },
  {
   "cell_type": "markdown",
   "metadata": {
    "collapsed": true
   },
   "source": [
    "***\n",
    "__Part C Work__:\n",
    "\n",
    "p = 0.7\n",
    "Expected Payout E[X] = (the prize for winning) * p(winning)\n",
    "$$\n",
    "    E[X] = \\$9550 * \\sum_{k = 5}^{9}{{k-1 \\choose 4}0.7^5(1-0.7)^{k-5}} \\square\n",
    "$$\n",
    "***"
   ]
  },
  {
   "cell_type": "markdown",
   "metadata": {},
   "source": [
    "**Part D**: This year the Jedi Knight Lightsaber-on-Lightsaber Association (the JKLOL Assoc) is implementing an experimental rule: Since Tony is rumored to be the stronger duelist, he gets to _choose_ the length of the championship tournament! Specifically, he can choose the series to be any odd length, from $N=3, 5, 7 \\dots, 99$ duels long. Assuming that Tony continues to use the service of Darth Ketelsen, and considering the fact that Tony has a better-than-even chance of winning each duel, explain the trade-offs between choosing a short series vs. a long series in terms of Expected Payout. "
   ]
  },
  {
   "cell_type": "markdown",
   "metadata": {},
   "source": [
    "***\n",
    "__Part D Conclusions__:\n",
    "\n",
    "The longer the tournament, the more of a guarentee Tony has of winning. We saw this in the stochastic simulations from the previous homework. As n increases, the value converges on the probability. In this case, the value will converge on Tony's probability of winning 0.7. This improves his expected payout, because he doesn't get paid if he doesn't win!\n",
    "\n",
    "The problem with a longer game though is that Ketelsen takes a cut for each round that Tony wins, so more rounds total in the tournament means that the potential pay cut for his mentor has a chance of being higher, and the expected payout goes down.\n",
    "\n",
    "There is an optimal length somewhere in between where the probability is higher of winning and he doesn't have to pay Ketelsen too much extra cash.\n",
    "***"
   ]
  },
  {
   "cell_type": "markdown",
   "metadata": {},
   "source": [
    "**Part E**: Write a function `optimal_series` that takes in $p$, the probability that Tony wins an individual duel, then computes the Expected Payout for each series of length $N=3, 5, 7, \\ldots 99$ and returns the optimal series length.  In addition to returning the optimal series length, your function should also produce a plot of Expected Payout vs Series Length. You may write any additional helper functions that you like, but you should not change the API for the function optimal_series. "
   ]
  },
  {
   "cell_type": "code",
   "execution_count": 107,
   "metadata": {},
   "outputs": [
    {
     "name": "stdout",
     "output_type": "stream",
     "text": [
      "Optimal series to maximize expected payout: 17 rounds total.\n"
     ]
    },
    {
     "data": {
      "image/png": "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\n",
      "text/plain": [
       "<Figure size 1152x576 with 1 Axes>"
      ]
     },
     "metadata": {
      "needs_background": "light"
     },
     "output_type": "display_data"
    }
   ],
   "source": [
    "from operator import mul\n",
    "from fractions import Fraction\n",
    "\n",
    "#https://stackoverflow.com/questions/3025162/statistics-combinations-in-python/3027128\n",
    "def nCk(n,k): \n",
    "    return int( reduce(mul, (Fraction(n-i, i+1) for i in range(k)), 1) )\n",
    "\n",
    "def negative_binomial_CDF(games_to_win, max_games, p_winning):\n",
    "    a_sum = 0\n",
    "    #calculate sum from games to win to max games\n",
    "    for i in range(games_to_win, max_games + 1):\n",
    "        a_sum += nCk(i - 1, games_to_win - 1) * (p_winning**games_to_win)*((1-p_winning)**(i-games_to_win))\n",
    "    return a_sum\n",
    "\n",
    "def optimal_series(p):\n",
    "    expected_cash_dict = {}\n",
    "    optimal_series_length = 1\n",
    "    top_cash = 0\n",
    "    for i in range(3, 100, 2):\n",
    "        games_to_win = math.ceil(i / 2)\n",
    "        cash_for_winning = 10000 - games_to_win * 90\n",
    "        prob_for_winning = negative_binomial_CDF(games_to_win, i, p)\n",
    "        expected_cash = cash_for_winning*prob_for_winning\n",
    "        if expected_cash > top_cash:\n",
    "            top_cash = expected_cash\n",
    "            optimal_series_length = i\n",
    "        expected_cash_dict[i] = expected_cash\n",
    "    expected_list = [0] * 100\n",
    "    for key in expected_cash_dict:\n",
    "        expected_list[key] = expected_cash_dict[key]\n",
    "    df = pd.DataFrame(expected_list)\n",
    "    fig, ax = plt.subplots(1,1,figsize = (16, 8))\n",
    "    df.plot.bar(ax = ax)\n",
    "    ax.set_xticks(df.index)\n",
    "    ax.set_title(\"Expected Payout for Number of Rounds\")\n",
    "    ax.set_xlabel(\"Round\")\n",
    "    ax.set_ylabel(\"Expected Payout\")\n",
    "    return optimal_series_length\n",
    "\n",
    "# prob_list = [0] * 10\n",
    "# for key in actual_probs:\n",
    "#     prob_list[key] = actual_probs[key]\n",
    "    \n",
    "print(f\"Optimal series to maximize expected payout: {optimal_series(0.7)} rounds total.\")"
   ]
  },
  {
   "cell_type": "markdown",
   "metadata": {
    "collapsed": true
   },
   "source": [
    "***\n",
    "__Part E Conclusions__:\n",
    "We can see the expected payout peaks at a certain point, as we calculated at 17 rounds total.\n",
    "***"
   ]
  },
  {
   "cell_type": "markdown",
   "metadata": {},
   "source": [
    "### [20 points] Problem 5\n",
    "\n",
    "Cement your superior stochastic simulation skills by solving some straightforward simulation scenarios."
   ]
  },
  {
   "cell_type": "markdown",
   "metadata": {},
   "source": [
    "**Part A**: Using a stochastic simulation, compute the probability that, from a shuffled standard deck of cards, two cards are sequentially chosen which have either identical value or _adjacent_ value. You may let Aces be high or low, but not both."
   ]
  },
  {
   "cell_type": "code",
   "execution_count": null,
   "metadata": {},
   "outputs": [],
   "source": []
  },
  {
   "cell_type": "markdown",
   "metadata": {},
   "source": [
    "**Part B**: Using a stochastic simulation, compute the probability that, from a shuffled standard deck of cards, three cards are sequentially chosen which form a run, e.g. 4-5-6 or 9-10-J. (The cards do not need to be drawn in order, like 4,5,6... any order is fine, like 6,4,5.) You may let Aces be high or low, but not both."
   ]
  },
  {
   "cell_type": "code",
   "execution_count": null,
   "metadata": {},
   "outputs": [],
   "source": []
  },
  {
   "cell_type": "markdown",
   "metadata": {},
   "source": [
    "**Part C**: When flipping over cards, sequentially, from a randomly shuffled deck, what is the probability that the third Ace will be revealed between flips 16 and 24, inclusively?"
   ]
  },
  {
   "cell_type": "code",
   "execution_count": null,
   "metadata": {},
   "outputs": [],
   "source": []
  },
  {
   "cell_type": "markdown",
   "metadata": {},
   "source": [
    "**Part D**: Using a stochastic simulation, determine the probability mass function for: the probability that the first card drawn is an $X$, given that the card was part of a 3-card sequence (as in Part B). Express your PMF as a bar graph. Explain why it has the shape that it has."
   ]
  },
  {
   "cell_type": "code",
   "execution_count": null,
   "metadata": {},
   "outputs": [],
   "source": []
  },
  {
   "cell_type": "code",
   "execution_count": null,
   "metadata": {},
   "outputs": [],
   "source": []
  },
  {
   "cell_type": "code",
   "execution_count": null,
   "metadata": {},
   "outputs": [],
   "source": []
  },
  {
   "cell_type": "code",
   "execution_count": null,
   "metadata": {},
   "outputs": [],
   "source": []
  }
 ],
 "metadata": {
  "kernelspec": {
   "display_name": "Python 3",
   "language": "python",
   "name": "python3"
  },
  "language_info": {
   "codemirror_mode": {
    "name": "ipython",
    "version": 3
   },
   "file_extension": ".py",
   "mimetype": "text/x-python",
   "name": "python",
   "nbconvert_exporter": "python",
   "pygments_lexer": "ipython3",
<<<<<<< HEAD
   "version": "3.7.0"
=======
   "version": "3.6.5"
>>>>>>> 2cc03bcbe03969035dd92a27eab3215e2e982ca6
  }
 },
 "nbformat": 4,
 "nbformat_minor": 2
}
