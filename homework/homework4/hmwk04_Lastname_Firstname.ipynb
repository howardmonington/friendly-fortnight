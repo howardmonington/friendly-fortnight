{
 "cells": [
  {
   "cell_type": "markdown",
   "metadata": {},
   "source": [
    "<a/ id='top'></a>\n",
    "# Homework 4: More Simulation and the Central Limit Theorem \n",
    "***\n",
    "\n",
    "**Name**: \n",
    "\n",
    "***\n",
    "\n",
    "This assignment is due on Moodle by **5 PM on Friday 26 October**. Your solutions to theoretical questions should be done in Markdown/MathJax directly below the associated question.  Your solutions to computational questions should include any specified Python code and results as well as written commentary on your conclusions.  Remember that you are encouraged to discuss the problems with your instructors and classmates, but **you must write all code and solutions on your own**.\n",
    "\n",
    "**NOTES**: \n",
    "\n",
    "- Do **NOT** load or use any Python packages that are not available in Anaconda 3.6. \n",
    "- Some problems with code may be autograded.  If we provide a function API **do not** change it.  If we do not provide a function API then you're free to structure your code however you like. \n",
    "- Because you can technically evaluate notebook cells is a non-linear order, it's a good idea to do Cell $\\rightarrow$ Run All as a check before submitting your solutions.  That way if we need to run your code you will know that it will work as expected. \n",
    "- Submit only this Jupyter notebook to Moodle.  Do not compress it using tar, rar, zip, etc. \n",
    "- This should go without saying, but... For any question that asks you to calculate something, you **must show all work to receive credit**. Sparse or nonexistent work will receive sparse or nonexistent credit.\n",
    "\n",
    "---\n",
    "**Shortcuts:**  [Problem 1](#p1) | [Problem 2](#p2) | [Problem 3](#p3) | [Problem 4](#p4)\n",
    "\n",
    "---"
   ]
  },
  {
   "cell_type": "code",
   "execution_count": 1,
   "metadata": {
    "scrolled": true
   },
   "outputs": [],
   "source": [
    "import numpy as np\n",
    "import math\n",
    "import scipy.stats as stats\n",
    "import matplotlib.pyplot as plt\n",
    "import pandas as pd\n",
    "%matplotlib inline"
   ]
  },
  {
   "cell_type": "markdown",
   "metadata": {},
   "source": [
    "<br>\n",
    "\n",
    "---\n",
    "<a/ id='p1'></a>\n",
    "[Back to top](#top)\n",
    "### [30 points] Problem 1 - Monte Carlo Estimation of Definite Integrals\n",
    "\n",
    "One really cool application of random variables is using them to approximate integrals/area under a curve.  This method of approximating integrals is used frequently in computational science to approximate really difficult integrals that we never want to do by hand.  In this exercise you'll figure out how we can do this in practice and test your method on a relatively simple integral. "
   ]
  },
  {
   "cell_type": "markdown",
   "metadata": {},
   "source": [
    "**Part A.**  Let $X$ be a random variable representing how delicious a pie you bake is, as measured by the **Deliciousness Index** (DI).  Suppose the probability density function for $X$ is described by the raised cosine probability density function:\n",
    "\n",
    "$$\n",
    "f(x) = \\begin{cases}\n",
    "         \\dfrac{1}{\\pi}\\left(\\cos{(x)} + 1\\right) & 0 \\leq x \\leq \\pi \\\\\n",
    "         0                           & \\text{otherwise}\n",
    "         \\end{cases}\n",
    "$$\n",
    "\n",
    "A Deliciousness Index of $\\pi$ is the most delicious pie you can ever hope to create, and a DI of $0$ is the most disgusting pie you have ever tasted.  \n",
    "\n",
    "Compute **by hand**, the integral of $f(x)$ for $0 \\leq x \\leq \\dfrac{\\pi}{2}$.  Write a sentence or two to interpret your result physically, in the context of this problem set-up."
   ]
  },
  {
   "cell_type": "markdown",
   "metadata": {},
   "source": [
    "***\n",
    "__Part A Conclusion__:\n",
    "\n",
    "Because f(x) only has support for $0 \\leq x \\leq \\pi$, and $0 \\leq x \\leq \\frac{\\pi}{2}$ falls within this interval, we evaluate\n",
    "$$\n",
    "    \\int_{0}^{\\frac{\\pi}{2}}{\\frac{1}{\\pi}\\left(cos(x) + 1\\right)dx} \\\\\n",
    "    =\\frac{1}{\\pi}\\left(sin(x) + x\\right)\\Big|_{0}^{\\frac{\\pi}{2}} \\\\\n",
    "    =\\frac{1}{\\pi}\\left(sin\\left(\\frac{\\pi}{2}\\right) + \\frac{\\pi}{2}\\right) \\\\\n",
    "    F\\left(\\frac{\\pi}{2}\\right) = \\frac{2+\\pi}{2\\pi}\n",
    "$$\n",
    "\n",
    "We can consider this to be F(x) because of the definition of CDF given PDF which is f(x).\n",
    "\n",
    "The chance of a pie being $\\leq \\frac{\\pi}{2}$ on the DI is this integral which $\\int_{0}^{\\frac{\\pi}{2}}{\\frac{1}{\\pi}\\left(cos(x) + 1\\right)dx}= \\frac{2+\\pi}{2\\pi} \\approx 0.818$.\n",
    "\n",
    "In English this can be translated to the pie having over an 80% chance of being less than or equal to half as good as the most delicious pie we could ever hope to create.  There is only $\\approx$ 18% chance of the pie being better than half as good as the most delicious pie we could create.  We have a lot of work to do before we can make more delicious pies, according to the DI, consistently.\n",
    "***"
   ]
  },
  {
   "cell_type": "markdown",
   "metadata": {},
   "source": [
    "**Part B.** Suppose we sample a random variable $X$ from $U(0,\\frac{\\pi}{2})$ and another random variable $Y$ from $U(0,1)$ and think of them as $x$- and $y$-coordinates of a point in the box $[0,\\frac{\\pi}{2}] \\times [0,1]$.  If we compute the ratio of points that fall under the curve $f(x)$ to the total points sampled, what does this value estimate? "
   ]
  },
  {
   "cell_type": "markdown",
   "metadata": {},
   "source": [
    "***\n",
    "__Part B Conclusions__:\n",
    "\n",
    "The ratio of the number of points that fall under the curve f(x) vs the total number of points total sampled estimates __the ratio of the area under the curve compared to the area of the entire box (the area the total sample is from).__\n",
    "***"
   ]
  },
  {
   "cell_type": "markdown",
   "metadata": {},
   "source": [
    "**Part C.** How could we modify the process outlined in **Part B** so that our estimator estimates the value of the desired integral?  If you need inspiration, check out the in-class notebook on Stochastic Simulation (#4), specifically, the exercise where we estimated $\\pi$!"
   ]
  },
  {
   "cell_type": "markdown",
   "metadata": {},
   "source": [
    "***\n",
    "__Part C Conclusions__:\n",
    "  The entire area has diagonal corners at $(0, 0)$ and $(\\frac{\\pi}{2}, 1)$ so we know that if we take the ratio of the points under the curve to the points sampled, and multiply by the max x value (because the area will always be the upper bound of the x random variable, given that y is sampled from $0 , 1$ then we can get an estimate of the area under the curve, which is an estimate of an integral.\n",
    "***"
   ]
  },
  {
   "cell_type": "markdown",
   "metadata": {},
   "source": [
    "**Part D.** Write a function `integrate` to compute an approximation to the definition integral $\\int_0^{\\text{ub}} f(x)dx$.  Your function should take as arguments:\n",
    "1. `num_samples` -- the number of points to sample,\n",
    "2. `ub` -- a number between $0$ and $\\pi$ that is the upper bound of the integral, and\n",
    "3. `isPlot` -- a Boolean flag for whether or not to display a plot of the results.\n",
    "\n",
    "Your function should return an approximation of the definite integral by sampling $X$ from $U(0,\\text{ub})$ and $Y$ from $U(0,1)$. For each random draw $(X,Y)$, define the random variable $Z$ that represents whether or not the sampled $Y$ value is less than $f(X)$ for the corresponding $X$ value.\n",
    "\n",
    "Your function should perform three tasks: \n",
    "\n",
    "1. return the estimate of the value of the integral,\n",
    "2. return the sample variance of the random variable $Z$ being simulated, using the np.var function, and\n",
    "3. if `isPlot` is True, plot the curve $f(x)$ as well as the location of the points $(X,Y)$, colored according to whether they fall above or below the curve. \n",
    "\n",
    "Run your simulation with `isPlot=True` and `ub=`$\\frac{\\pi}{2}$ for 1,000 samples so we can see your plot. Then, run your simulation (with `isPlot=False`) with at least 10,000 samples and estimate the value of the given integral.  Does your estimate agree with the exact value of the integral you computed in **Part A**? "
   ]
  },
  {
   "cell_type": "markdown",
   "metadata": {},
   "source": []
  },
  {
   "cell_type": "code",
   "execution_count": 58,
   "metadata": {},
   "outputs": [
    {
     "name": "stdout",
     "output_type": "stream",
     "text": [
      "Estimated value, when # samples = 10000: 0.8177565677294231\n"
     ]
    },
    {
     "data": {
      "image/png": "[encoded data removed]",
      "text/plain": [
       "<Figure size 576x576 with 1 Axes>"
      ]
     },
     "metadata": {},
     "output_type": "display_data"
    }
   ],
   "source": [
    "import random\n",
    "\n",
    "def integrate(num_samples, ub, isPlot):\n",
    "    num_success_samples = 0\n",
    "    success_points = []\n",
    "    non_success_points = []\n",
    "    successes = []\n",
    "    functionxy = []\n",
    "    for i in range(num_samples):\n",
    "        x = random.uniform(0, ub)\n",
    "        y = random.uniform(0, 1)\n",
    "        f = (1/math.pi)*(math.cos(x) + 1)\n",
    "        z = y < f\n",
    "        if z:\n",
    "            successes.append(1)\n",
    "            num_success_samples += 1\n",
    "            success_points.append((x, y))\n",
    "        else:\n",
    "            successes.append(0)\n",
    "            non_success_points.append((x,y))\n",
    "    x = np.linspace(0, ub, 1000)\n",
    "    y = [(1/math.pi)*(math.cos(x1) + 1) for x1 in x]\n",
    "    if isPlot:\n",
    "        fig, ax = plt.subplots(1,1,figsize=(8,8))\n",
    "        ax.scatter(*zip(*success_points), color = \"green\")\n",
    "        ax.scatter(*zip(*non_success_points), color = \"red\")\n",
    "        ax.plot(x,y,color = \"blue\")\n",
    "        \n",
    "    return ( (num_success_samples / num_samples) * ub , np.var(successes))\n",
    "\n",
    "integrate(1000, math.pi/2, True)\n",
    "estimatedValue, estimatedVarianceOfZ = integrate(10000, math.pi/2, False)\n",
    "print(f\"Estimated value, when # samples = 10000: {estimatedValue}\")"
   ]
  },
  {
   "cell_type": "markdown",
   "metadata": {},
   "source": [
    "**Part E.** In the simulation above, what is distribution of the random variable $Z$ that we're actually sampling? What is/are the parameters of this distribution?  "
   ]
  },
  {
   "cell_type": "markdown",
   "metadata": {},
   "source": []
  },
  {
   "cell_type": "markdown",
   "metadata": {},
   "source": [
    "**Part F.**  Compute the expected value of the random variable you described in **Part E** by hand.  Does this value agree with the exact value of the integral you computed in **Part A** and the estimated value you simulated in **Part D**? "
   ]
  },
  {
   "cell_type": "markdown",
   "metadata": {},
   "source": []
  },
  {
   "cell_type": "code",
   "execution_count": null,
   "metadata": {},
   "outputs": [],
   "source": []
  },
  {
   "cell_type": "markdown",
   "metadata": {},
   "source": [
    "**Part G.** Compute the variance of the random variable you described in **Part E** by hand.  Does this value agree with the sample variance observed in your simulation for **Part D**? "
   ]
  },
  {
   "cell_type": "markdown",
   "metadata": {
    "collapsed": true
   },
   "source": []
  },
  {
   "cell_type": "code",
   "execution_count": null,
   "metadata": {},
   "outputs": [],
   "source": []
  },
  {
   "cell_type": "markdown",
   "metadata": {},
   "source": [
    "<br>\n",
    "\n",
    "---\n",
    "<a/ id='p2'></a>\n",
    "[Back to top](#top)\n",
    "### [25 points] Problem 2 - Mmmm... Donuts...\n",
    "\n",
    "<img src=\"http://astrokentico.s3.amazonaws.com/rojakdaily/media/1nichoras/homer%20simpson%20krispy%20kreme/main.jpg?ext=.jpg\" style=\"width:300px;\"/>\n",
    "\n",
    "You bring many donuts (or _doughnuts_, if you will) to work to share with your coworkers at the Boulder Nuclear Power Planet. But due to the high levels of radiation there, they must be inspected for safety. In particular, if the mean level of radiation in a sample from your batch of donuts is above [200 mSv (millisievert)](#rad), then they are deemed unsafe and you must throw the whole batch away.\n",
    "\n",
    "You know that historically donuts at the power plant have, on average, 190 mSv of radiation, with a standard deviation of 40 mSv. To test the donut radiation levels, you take the donut receipt and pick every fifth donut off it, and sample the radiation levels of those donuts. You end up sampling the radiation levels of 36 donuts out of the batch."
   ]
  },
  {
   "cell_type": "markdown",
   "metadata": {},
   "source": [
    "**Part A.** What is the probability that a donut batch is deemed unsafe?  You should at the very least set up and justify your calculation by hand (in Markdown/Mathjax), before executing any calculations in Python."
   ]
  },
  {
   "cell_type": "markdown",
   "metadata": {},
   "source": []
  },
  {
   "cell_type": "code",
   "execution_count": null,
   "metadata": {},
   "outputs": [],
   "source": []
  },
  {
   "cell_type": "markdown",
   "metadata": {},
   "source": [
    "**Part B.** You really do not want to throw away donuts that frequently, so you propose to store the donuts in a lead-lined donut box. But lead also is not very good for your health, so you are motivated to use the least amount of lead possible. What is the minimum mean amount of radiation $\\mu$ for our donuts to have such that the probability that we will throw donuts out due to safety concerns is at most 0.001?\n",
    "\n",
    "Calculate this **by hand**, using Python only to perform arithmetic operations and compute critical values of a standard normal random variable."
   ]
  },
  {
   "cell_type": "markdown",
   "metadata": {},
   "source": []
  },
  {
   "cell_type": "code",
   "execution_count": null,
   "metadata": {},
   "outputs": [],
   "source": []
  },
  {
   "cell_type": "markdown",
   "metadata": {},
   "source": [
    "**Part C.**  Your supervisor at the plant decides that serving up donuts in a lead-lined box is a bad idea. Fair enough.\n",
    "\n",
    "But she is still imposing the requirement that the probability of a batch of donuts being rejected must be less than 0.001. Suppose the mean and standard deviation are at their original values of $\\mu = 190$ mSv and $\\sigma = 40$ mSv. What is the minimum sample size to satisfy this requirement?\n",
    "\n",
    "Calculate this **by hand**, using Python only to perform arithmetic operations and compute critical values of a standard normal random variable."
   ]
  },
  {
   "cell_type": "markdown",
   "metadata": {},
   "source": []
  },
  {
   "cell_type": "code",
   "execution_count": null,
   "metadata": {},
   "outputs": [],
   "source": []
  },
  {
   "cell_type": "markdown",
   "metadata": {},
   "source": [
    "**Part D.** Can you think of any potential issues with using a normal distribution to model the radiation content of our donuts?"
   ]
  },
  {
   "cell_type": "markdown",
   "metadata": {},
   "source": []
  },
  {
   "cell_type": "markdown",
   "metadata": {},
   "source": [
    "<br>\n",
    "\n",
    "---\n",
    "<a/ id='p3'></a>\n",
    "[Back to top](#top)\n",
    "### [20 points] Problem 3 - Snappy McChatterson over here\n",
    "\n",
    "**Part A:** Your friends are really texting a lot of messages to your Snap Chat. You start your stopwatch and record the time when each Snap Chat text message comes in. The data are found in `SnappedChats.csv`.\n",
    "\n",
    "Load them in using whatever method you prefer, compute the time span between successive snaps, and plot a density histogram of those inter-snap arrival times.\n",
    "\n",
    "Your histogram should be gold with black edges (sko buffs) and have 50 bins. Be sure to label your axes and include a legend.\n"
   ]
  },
  {
   "cell_type": "code",
   "execution_count": null,
   "metadata": {},
   "outputs": [],
   "source": []
  },
  {
   "cell_type": "markdown",
   "metadata": {},
   "source": [
    "**Part B:** Compute a 90% confidence interval (to 4 decimal places) for the mean of the inter-snap arrival time. If you use any theorem(s) in your calculation, be sure to state what they are and why the theorem(s) can be applied. "
   ]
  },
  {
   "cell_type": "markdown",
   "metadata": {},
   "source": []
  },
  {
   "cell_type": "code",
   "execution_count": null,
   "metadata": {},
   "outputs": [],
   "source": []
  },
  {
   "cell_type": "markdown",
   "metadata": {},
   "source": [
    "**Part C:** Speculate: what would happen if you hadn't included all the data in your confidence interval calculation above? Specifically, if you used only 30 of your data points to compute a confidence interval, would it be wider or less wide? Why?"
   ]
  },
  {
   "cell_type": "markdown",
   "metadata": {},
   "source": []
  },
  {
   "cell_type": "markdown",
   "metadata": {},
   "source": [
    "**Part D:** Write a function to confirm what you have written above. For each value of $n$ between $30$ and the total number of data points, compute a 90% CI using the first $n$ inter-arrival times. Plot the CIs (vertical axis) against $n$ (horizontal axis). Plot the means as black X symbols, with vertical \"errorbars\" for the CIs colored gold. See Matplotlib's [errorbar](https://matplotlib.org/api/_as_gen/matplotlib.pyplot.errorbar.html) plot type. "
   ]
  },
  {
   "cell_type": "code",
   "execution_count": null,
   "metadata": {
    "collapsed": true
   },
   "outputs": [],
   "source": []
  },
  {
   "cell_type": "markdown",
   "metadata": {},
   "source": [
    "<br>\n",
    "\n",
    "---\n",
    "<a/ id='p4'></a>\n",
    "[Back to top](#top)\n",
    "### [25 points] Problem 4 - Not-so-Easy Peasy Plinko \n",
    "\n",
    "[Plinko](http://priceisright.wikia.com/wiki/Plinko), the shining jewel of the gameshow [Price is Right](https://en.wikipedia.org/wiki/The_Price_Is_Right), is a staple of American culture.  Luckily for us, it's also chalk-full of interesting ideas from probability and statistics. The game involves dropping a disc onto an inclined board of pegs and letting it bounce around until it lands in a bin with an associated cash value. Players get to drop some number of discs down the Plinko board and keep their winnings.\n",
    "\n",
    "In class we looked at a simplified version of Plinko:  \n",
    "\n",
    "![](http://www.cs.colorado.edu/~tonyewong/home/resources/plinko/plinko1.png)\n",
    "\n",
    "In real life, Plinko has boundaries, positioned symmetrically around the center $c$ at positions $\\ell$ and $r$ s.t. $|c-\\ell| = |c+r|$. The effect of the boundaries are that when the Plinko disc hits the boundary, it can only move back toward the center. In other words, if the disc hits the boundary at $\\ell$, it can only go right at that level. Likewise, if the disc hits the boundary at $r$, it can only go left at that level. \n",
    "\n",
    "For instance, the following board depicts a Plinko game with boundaries at $0.5$ (halfway between the centers of Buckets 0 and 1) and $5.5$ (halfway between Buckets 5 and 6)  The red pegs indicate boundary pegs on which the disc always moves toward the center.   \n",
    "\n",
    "![](http://www.cs.colorado.edu/~tonyewong/home/resources/plinko/plinko2.png)\n"
   ]
  },
  {
   "cell_type": "markdown",
   "metadata": {},
   "source": [
    "**Part A**: First, let's consider the case without boundaries. \n",
    "\n",
    "**[1]** Write a simulator of Plinko that models the disc moving through each of the 6 rows of pegs to its final destination in one of the 7 bins. Let $X$ be the random variable corresponding to the Bucket that the disc lands in. Run your simulation for at least 10,000 trials and plot a density histogram estimate of the PMF of $X$ when the probability of moving left when hitting a peg is equal to `p_right = 0.5`. Note that in this set-up, you must always drop the disc above bin 3.\n",
    "\n",
    "Your code should take as arguments:\n",
    "* `n` -- number of Plinko trials\n",
    "* `p_right` -- the probability of bouncing right at any given peg\n",
    "\n",
    "Your code should return some kind of an array-like object that can be used to plot a histogram of the results of your `n` Plinko games.\n",
    "\n",
    "**[2]** Then, plot a density histogram of the results.  Run your simulation for at least 10,000 trials.  The bins should be centered above the corresponding bin numbers, and axes should be labeled appropriately."
   ]
  },
  {
   "cell_type": "code",
   "execution_count": null,
   "metadata": {
    "collapsed": true
   },
   "outputs": [],
   "source": []
  },
  {
   "cell_type": "markdown",
   "metadata": {},
   "source": [
    "**Part B**: Let $X$ be the random variable corresponding to the Bucket that the disc lands in for the situation in **Part A**.  Write down the **true** PMF for $X$. (**Hint**: It might be helpful to reflect back on the discussion from Lecture 11). \n",
    "\n",
    "**Then**, check that your empirical (estimated) probabilities for landing in Bucket 0, 1, 2, or 3 compare to the true probabilities. Comment on whether or not they agree, and be sure to clearly state what the probabilities you've calculated are."
   ]
  },
  {
   "cell_type": "markdown",
   "metadata": {
    "collapsed": true
   },
   "source": []
  },
  {
   "cell_type": "code",
   "execution_count": null,
   "metadata": {
    "collapsed": true
   },
   "outputs": [],
   "source": []
  },
  {
   "cell_type": "markdown",
   "metadata": {},
   "source": [
    "**Part C.** \n",
    "\n",
    "**[1]** Now write a simulator for Plinko with boundaries, and an argument for the number of rows. Your code should be similar to your code from **Part A**, with the following arguments:\n",
    "* `n` -- number of Plinko trials\n",
    "* `p_right` -- the probability of bouncing right at any given peg\n",
    "* `left_bound` -- the left boundary\n",
    "* `right_bound` -- the right boundary\n",
    "* `initial` -- the initial bin that you drop the disc above\n",
    "* `n_rows` -- number the rows on the plinko board. The board must have number of pegs in the bottom row equal to `n_rows`.\n",
    "\n",
    "**[2]** As a sanity check, use a 1-row board with `p_right=0.85`, and no left/right boundaries.  Run 10,000 trials and plot a density histogram of the results. The bins should be centered above the corresponding bin numbers, and the axes should be labeled. Does your result match you expect should happen? Explain."
   ]
  },
  {
   "cell_type": "code",
   "execution_count": null,
   "metadata": {
    "collapsed": true
   },
   "outputs": [],
   "source": []
  },
  {
   "cell_type": "markdown",
   "metadata": {},
   "source": []
  },
  {
   "cell_type": "markdown",
   "metadata": {},
   "source": [
    "**Part D.**  Run 10,000 trials with left and right boundaries at 0.5 and 5.5, respectively, and a 6-row board. Drop the disc above Bin 3. Plot a density histogram of the results, simiarly to **Part C**."
   ]
  },
  {
   "cell_type": "code",
   "execution_count": null,
   "metadata": {},
   "outputs": [],
   "source": []
  },
  {
   "cell_type": "markdown",
   "metadata": {},
   "source": [
    "**Part E**:  Let $X$ be the random variable corresponding to the Bucket that the disc lands in for the situation in **Part C**.  Compare the approximate PMF for this board to the no-boundary board from **Part A/B**. Explain the mechanism that causes the differences between the two PMFs in words. Then, write down the **true** PMF for $X$."
   ]
  },
  {
   "cell_type": "markdown",
   "metadata": {},
   "source": []
  },
  {
   "cell_type": "markdown",
   "metadata": {},
   "source": [
    "**Part F**: Suppose I challenge you to a _friendly_ game of Plinko on the board from **Parts D** and **E**.\n",
    "* If the disc lands in bins 1 or 5, I will pay you \\$1\n",
    "* If the disc lands in bin 3, I will pay you \\$4\n",
    "* If the disc lands in bins 2 or 4, I will pay you nothing\n",
    "* I will also charge you a flat fee for each disc that you play.\n",
    "\n",
    "How much should I charge you per disc so that we break even in the long run? "
   ]
  },
  {
   "cell_type": "markdown",
   "metadata": {},
   "source": []
  },
  {
   "cell_type": "code",
   "execution_count": null,
   "metadata": {},
   "outputs": [],
   "source": []
  },
  {
   "cell_type": "markdown",
   "metadata": {},
   "source": [
    "***"
   ]
  },
  {
   "cell_type": "markdown",
   "metadata": {},
   "source": [
    "### Challenge Fun Problem [0 points] - Real-Deal Plinko \n",
    "***\n",
    "\n",
    "Implement a full-blown Plinko simulator based on the actual board from Price is Right, which allows you to choose where to place the disc at the top of the board.  \n",
    "\n",
    "![alt text](https://i.pinimg.com/736x/7d/4b/5b/7d4b5b9ba5cdeceea16433eaadeeaf13--mash-game-plinko-game.jpg)\n",
    "\n",
    "You can actually do this using mostly your code from **Problem 3** and some careful handling of the boundaries relative to where you drop the disc.  Investigate questions like \"What is the optimal position to drop the disc to maximize expected winnings?\" and \"What are the expected winnings if you play Plinko optimally?\"\n",
    "\n",
    "Once you're done with that, it's time to go full-on Meta-Plinko.  Suppose the boundaries of the Plinko board are in their true positions from the real game show, but the board can have an arbitrary number of rows.  Is there a minimum number of rows the board can have at which point the PMF for the distribution becomes approximately uniform?  If not, is there a Bucket, or set of Buckets, that always have a greater chance of claiming the disc? \n"
   ]
  },
  {
   "cell_type": "markdown",
   "metadata": {},
   "source": [
    "<br>\n",
    "\n",
    "---\n",
    "### Notes\n",
    "\n",
    "<a/ id='rad'></a> 200 mSv is somewhere below Chernobyl levels of exposure, but more radiation than you would want with regard to potentially increasing your risk of cancer. It's probably too high, but it is a nice round number! More information [here](https://www.theguardian.com/news/datablog/2011/mar/15/radiation-exposure-levels-guide).\n",
    "\n",
    "[Back to Problem 2](#p2)"
   ]
  },
  {
   "cell_type": "code",
   "execution_count": null,
   "metadata": {
    "collapsed": true
   },
   "outputs": [],
   "source": []
  }
 ],
 "metadata": {
  "kernelspec": {
   "display_name": "Python 3",
   "language": "python",
   "name": "python3"
  },
  "language_info": {
   "codemirror_mode": {
    "name": "ipython",
    "version": 3
   },
   "file_extension": ".py",
   "mimetype": "text/x-python",
   "name": "python",
   "nbconvert_exporter": "python",
   "pygments_lexer": "ipython3",
   "version": "3.6.5"
  }
 },
 "nbformat": 4,
 "nbformat_minor": 2
}
